{
 "cells": [
  {
   "cell_type": "markdown",
   "metadata": {},
   "source": [
    "# midinet_doubleモデルの学習\n",
    "midinet2をベースに2小節を1まとまりとしたメロディを生成  \n",
    "セクションベクトルはない"
   ]
  },
  {
   "cell_type": "code",
   "execution_count": 1,
   "metadata": {},
   "outputs": [],
   "source": [
    "import os, glob, time, ipdb, pickle, numpy as np\n",
    "visible_devices = [3]\n",
    "os.environ['CUDA_VISIBLE_DEVICES'] = ','.join([str(i) for i in visible_devices])\n",
    "\n",
    "import torch, torch.nn as nn\n",
    "import torch.nn.functional as F\n",
    "import torch.optim as optim\n",
    "import torchvision.utils as vutils\n",
    "from torch.utils.data import DataLoader\n",
    "from PIL import Image\n",
    "from multi_gpu import MultiGPUWrapper\n",
    "from utils import Timer, get_model, count_params\n",
    "from IPython.display import clear_output\n",
    "\n",
    "import matplotlib.pyplot as plt\n",
    "%matplotlib inline"
   ]
  },
  {
   "cell_type": "code",
   "execution_count": 2,
   "metadata": {},
   "outputs": [],
   "source": [
    "base_dir = \"../datasets/theorytab/midinet\"\n",
    "output_dir = f\"{base_dir}/learning\"\n",
    "\n",
    "if not os.path.isdir(output_dir):\n",
    "    os.mkdir(output_dir)"
   ]
  },
  {
   "cell_type": "markdown",
   "metadata": {},
   "source": [
    "## DataLoaderの作成"
   ]
  },
  {
   "cell_type": "code",
   "execution_count": 3,
   "metadata": {},
   "outputs": [],
   "source": [
    "class MidinetDataloader():\n",
    "    def __init__(self, data_path, pitch_range=[0, 64], show_shape=False):\n",
    "        data = pickle.load(open(data_path,'rb'))\n",
    "        \n",
    "        melody, prev, chord = [], [], []\n",
    "        for m, p, c in data:\n",
    "            melody.append(m)\n",
    "            prev.append(p)\n",
    "            chord.append(c)\n",
    "        \n",
    "        self.size = len(melody)\n",
    "        steps = len(melody[0])\n",
    "        bottom, top = pitch_range\n",
    "        \n",
    "        melody = np.array(melody)[:,:,bottom:top].reshape(self.size, 1, steps, top-bottom)\n",
    "        prev = np.array(prev)[:,:,bottom:top].reshape(self.size, 1, steps, top-bottom)\n",
    "        chord = np.array(chord)\n",
    "        \n",
    "        if show_shape:\n",
    "            print(\"melody shape\", melody.shape)\n",
    "            print(\"prev shape\", prev.shape)\n",
    "            print(\"condition shape\", chord.shape)\n",
    "        \n",
    "        self.x = torch.from_numpy(melody).float()\n",
    "        self.prev_x   = torch.from_numpy(prev).float()\n",
    "        self.y  = torch.from_numpy(chord).float()\n",
    "\n",
    "    def __getitem__(self, index):\n",
    "        return self.x[index], self.prev_x[index], self.y[index]\n",
    "\n",
    "    def __len__(self):\n",
    "        return self.size"
   ]
  },
  {
   "cell_type": "code",
   "execution_count": 4,
   "metadata": {},
   "outputs": [],
   "source": [
    "def get_dataloader(data_path, batch_size=72, shuffle=True):\n",
    "    iterator = MidinetDataloader(data_path)\n",
    "    kwargs = {'num_workers': 4, 'pin_memory': True}\n",
    "    data_loader = DataLoader(iterator, batch_size=batch_size, shuffle=shuffle, **kwargs)\n",
    "    print('Data loading is completed.')\n",
    "    print(f'{len(data_loader)} batches from {len(iterator)} bars are obtained.')\n",
    "    return data_loader"
   ]
  },
  {
   "cell_type": "markdown",
   "metadata": {},
   "source": [
    "動作確認"
   ]
  },
  {
   "cell_type": "code",
   "execution_count": 5,
   "metadata": {
    "deletable": false,
    "editable": false,
    "run_control": {
     "frozen": true
    }
   },
   "outputs": [
    {
     "name": "stdout",
     "output_type": "stream",
     "text": [
      "Data loading is completed.\n",
      "557 batches from 55617 bars are obtained.\n"
     ]
    }
   ],
   "source": [
    "input_data_path = os.path.join(base_dir, \"midinet_double.pkl\")\n",
    "dataloader = get_dataloader(input_data_path, batch_size=100)"
   ]
  },
  {
   "cell_type": "code",
   "execution_count": 10,
   "metadata": {
    "deletable": false,
    "editable": false,
    "run_control": {
     "frozen": true
    }
   },
   "outputs": [
    {
     "data": {
      "text/plain": [
       "torch.Size([100, 1, 96, 64])"
      ]
     },
     "execution_count": 10,
     "metadata": {},
     "output_type": "execute_result"
    }
   ],
   "source": [
    "batch = next(dataloader.__iter__())\n",
    "batch[0].shape # melody"
   ]
  },
  {
   "cell_type": "markdown",
   "metadata": {},
   "source": [
    "## Modelの作成"
   ]
  },
  {
   "cell_type": "markdown",
   "metadata": {},
   "source": [
    "#### model用共通関数の作成"
   ]
  },
  {
   "cell_type": "code",
   "execution_count": 5,
   "metadata": {},
   "outputs": [],
   "source": [
    "def concat_vector(x, y):\n",
    "    x_0, _, x_2, x_3 = x.shape\n",
    "    y2 = y.expand(x_0, y.shape[1], x_2, x_3)\n",
    "    return torch.cat((x, y2),1)\n",
    "    \n",
    "def batch_norm(x, eps=1e-05, momentum=0.9, affine=True):\n",
    "    device = x.device\n",
    "    if x.ndim == 3:\n",
    "        return nn.BatchNorm1d(x.shape[1], eps=eps, momentum=momentum, affine=affine).to(device)(x)\n",
    "    elif x.ndim == 4:\n",
    "        return nn.BatchNorm2d(x.shape[1], eps=eps, momentum=momentum, affine=affine).to(device)(x)\n",
    "    else:\n",
    "        return x\n",
    "\n",
    "def lrelu(x, leak=0.2):\n",
    "    z = torch.mul(x,leak)\n",
    "    return torch.max(x, z)"
   ]
  },
  {
   "cell_type": "markdown",
   "metadata": {},
   "source": [
    "#### Generator\n",
    "ここからが本題.モデルの入力を変えたい  \n",
    "\n",
    "forwardの入力\n",
    "- z (batch, noise_size) = (72, 100): ランダムノイズ\n",
    "- prev_x (batch, ch, steps, pitch) = (72, 1, 96, 64): 前のブロック\n",
    "- condition (batch, 96)\n",
    "\n",
    "forwardの出力\n",
    "- g_x (batch, ch, steps, pitch)= (72, 1, 96, 64): 生成された今の小節"
   ]
  },
  {
   "cell_type": "markdown",
   "metadata": {},
   "source": [
    "畳み込みをさらに1段階増やす  \n",
    "おそらく三連譜が出てくるのは1/12分音符として使われるのが一般的だろうと踏んで，24->8のところでカーネルサイズを変更  \n",
    "prev_x -> ピッチ畳み込み -> 96 -> 48 -> 24 -> 8 -> 4 -> 2 -> 1  "
   ]
  },
  {
   "cell_type": "code",
   "execution_count": 6,
   "metadata": {},
   "outputs": [],
   "source": [
    "class SelfAttention(nn.Module):\n",
    "    \"\"\" Self Attention Layer \"\"\"\n",
    "    \n",
    "    def __init__(self, in_dim):\n",
    "        super(SelfAttention, self).__init__()\n",
    "        \n",
    "        # Self Attention の学習に使用する層を定義\n",
    "        \n",
    "        # pointwise convolutionによる特徴量変換，圧縮\n",
    "        # Attention Mapに使われるxは3つあり，それぞれに対して適用\n",
    "        # これが非常に大きなカーネルを設定するよりも高速になるらしい\n",
    "        self.query_conv = nn.Conv2d(in_dim, in_dim//8, kernel_size=1)\n",
    "        self.key_conv = nn.Conv2d(in_dim, in_dim//8, kernel_size=1)\n",
    "        self.value_conv = nn.Conv2d(in_dim, in_dim, kernel_size=1)\n",
    "        \n",
    "        # Attention Map 作成時の規格化用Softmax\n",
    "        self.softmax = nn.Softmax(dim=-2)\n",
    "        \n",
    "        # Attention Mapにかける係数\n",
    "        self.gamma = nn.Parameter(torch.zeros(1))\n",
    "        \n",
    "        \n",
    "    def forward(self, x, get_map=False):\n",
    "        \n",
    "        # (B, C', W, H) -> (B, C', N)\n",
    "        proj_query = self.query_conv(x).view(x.shape[0], -1, x.shape[2]*x.shape[3])\n",
    "        \n",
    "        # 転置 x^t\n",
    "        proj_query = proj_query.permute(0, 2, 1)\n",
    "        \n",
    "        # 転置してない方の x\n",
    "        proj_key = self.key_conv(x).view(x.shape[0], -1, x.shape[2] * x.shape[3]) # (B, C', N)\n",
    "        \n",
    "        # バッチごとに行列の掛け算 x^t x を行う\n",
    "        S = torch.bmm(proj_query, proj_key)\n",
    "        \n",
    "        # 規格化と転置を行い，Attention Mapを作成\n",
    "        attention_map_T = self.softmax(S)\n",
    "        attention_map = attention_map_T.permute(0, 2, 1)\n",
    "        \n",
    "        # xに対応する調整量 o を取得\n",
    "        proj_value = self.value_conv(x).view(x.shape[0], -1, x.shape[2]*x.shape[3]) # (B, C', N)\n",
    "        o = torch.bmm(proj_value, attention_map.permute(0, 2, 1))\n",
    "        \n",
    "        # x + gamma o　を返す\n",
    "        o = o.view(x.shape[0], x.shape[1], x.shape[2], x.shape[3])\n",
    "        out = x + self.gamma * o\n",
    "        \n",
    "        if get_map:\n",
    "            return out, attention_map\n",
    "        else:\n",
    "            return out\n",
    "\n",
    "# from torchgan SelfAttention2d\n",
    "class SelfAttention(nn.Module):\n",
    "    def __init__(self, input_dims, return_attn=False):\n",
    "        super(SelfAttention2d, self).__init__()\n",
    "        self.query = nn.Conv2d(input_dims, input_dims//8, 1)\n",
    "        self.key = nn.Conv2d(input_dims, input_dims//8, 1)\n",
    "        self.value = nn.Conv2d(input_dims, input_dims, 1)\n",
    "        self.gamma = nn.Parameter(torch.zeros(1))\n",
    "\n",
    "    def forward(self, x, return_attn = return_attn):\n",
    "        dims = (x.size(0), -1, x.size(2) * x.size(3))\n",
    "        out_query = self.query(x).view(dims)\n",
    "        out_key = self.key(x).view(dims).permute(0, 2, 1)\n",
    "        attn = F.softmax(torch.bmm(out_key, out_query), dim=-1)\n",
    "        out_value = self.value(x).view(dims)\n",
    "        out_value = torch.bmm(out_value, attn).view(x.size())\n",
    "        out = self.gamma * out_value + x\n",
    "        if return_attn:\n",
    "            return out, attn\n",
    "        return out"
   ]
  },
  {
   "cell_type": "code",
   "execution_count": 7,
   "metadata": {},
   "outputs": [],
   "source": [
    "class Generator(nn.Module):\n",
    "    def __init__(self, z_dim=100, pitch_range=64):\n",
    "        super(Generator, self).__init__()\n",
    "        self.bars = 2\n",
    "        self.z_dim   = z_dim\n",
    "        self.y_dim   = 48 * self.bars\n",
    "        self.prev_ch = 16 * self.bars\n",
    "        self.gf_dim  = 128\n",
    "        self.gfc_dim = 1024\n",
    "\n",
    "        self.h1      = nn.ConvTranspose2d(self.gf_dim+self.prev_ch, pitch_range, kernel_size=(2,1), stride=(2,1))\n",
    "        self.h2      = nn.ConvTranspose2d(pitch_range+self.prev_ch, pitch_range, kernel_size=(2,1), stride=(2,1))\n",
    "        self.h3      = nn.ConvTranspose2d(pitch_range+self.prev_ch, pitch_range, kernel_size=(3,1), stride=(3,1))\n",
    "        self.h4      = nn.ConvTranspose2d(pitch_range+self.prev_ch, pitch_range, kernel_size=(2,1), stride=(2,1))\n",
    "        self.h5      = nn.ConvTranspose2d(pitch_range+self.prev_ch, pitch_range, kernel_size=(2,1), stride=(2,1))\n",
    "        self.h6      = nn.ConvTranspose2d(pitch_range+self.prev_ch, 1, kernel_size=(1,pitch_range), stride=(1,1))\n",
    "        \n",
    "        self.h0_prev = nn.Conv2d(1, self.prev_ch, kernel_size=(1,pitch_range), stride=(1,1))\n",
    "        self.h1_prev = nn.Conv2d(self.prev_ch, self.prev_ch, kernel_size=(2,1), stride=(2,1))\n",
    "        self.h2_prev = nn.Conv2d(self.prev_ch, self.prev_ch, kernel_size=(2,1), stride=(2,1))\n",
    "        self.h3_prev = nn.Conv2d(self.prev_ch, self.prev_ch, kernel_size=(3,1), stride=(3,1))\n",
    "        self.h4_prev = nn.Conv2d(self.prev_ch, self.prev_ch, kernel_size=(2,1), stride=(2,1))\n",
    "        self.h5_prev = nn.Conv2d(self.prev_ch, self.prev_ch, kernel_size=(2,1), stride=(2,1))\n",
    "        \n",
    "        self.sa2 = SelfAttention(pitch_range+self.prev_ch)\n",
    "        self.sa4 = SelfAttention(pitch_range+self.prev_ch)\n",
    "\n",
    "        self.linear1 = nn.Linear(self.z_dim + self.y_dim, self.gfc_dim)\n",
    "        self.linear2 = nn.Linear(self.gfc_dim, self.gf_dim*2*1)\n",
    "\n",
    "    def forward(self, z, prev_x, y):\n",
    "        \n",
    "        batch_size = len(z)\n",
    "        \n",
    "        h0_prev = lrelu(self.h0_prev(prev_x))   # 72, 32, 96, 1 ピッチ方向の畳み込み\n",
    "        h1_prev = lrelu(self.h1_prev(h0_prev))  # 72, 32, 48, 1\n",
    "        h2_prev = lrelu(self.h2_prev(h1_prev))  # 72, 32, 24, 1\n",
    "        h3_prev = lrelu(self.h3_prev(h2_prev))  # 72, 32, 8, 1\n",
    "        h4_prev = lrelu(self.h4_prev(h3_prev))  # 72, 32, 4, 1\n",
    "        h5_prev = lrelu(self.h5_prev(h4_prev))  # 72, 32, 2, 1\n",
    "\n",
    "        z = torch.cat((z,y),1)                          # 72, 196\n",
    "\n",
    "        h0 = F.relu(self.linear1(z))                    # 72, 1024\n",
    "        h1 = F.relu(self.linear2(h0))                   # 72, 256\n",
    "        h1 = h1.view(batch_size, self.gf_dim, 2, 1)     # 72, 128, 2, 1\n",
    "        \n",
    "        h1 = concat_vector(h1, h5_prev)                 # 72, 160, 2, 1\n",
    "\n",
    "        h2 = F.relu(self.h1(h1))                        # 72, 64, 4, 1 逆畳み込み． チャンネル数は固定で，3次元目が拡大される\n",
    "        h2 = concat_vector(h2, h4_prev)                 # 72, 96, 4, 1\n",
    "        h2 = self.sa2(h2)\n",
    "\n",
    "        h3 = F.relu(self.h2(h2))                        # 72, 64, 8, 1 \n",
    "        h3 = concat_vector(h3, h3_prev)                 # 72, 96, 8, 1\n",
    "\n",
    "        h4 = F.relu(self.h3(h3))                        # 72, 64, 24, 1\n",
    "        h4 = concat_vector(h4, h2_prev)                 # 72, 96, 24, 1\n",
    "        h4 = self.sa4(h4)\n",
    "        \n",
    "        h5 = F.relu(self.h4(h4))                        # 72, 64, 48, 1\n",
    "        h5 = concat_vector(h5, h1_prev)                 # 72, 96, 48, 1\n",
    "        \n",
    "        h6 = F.relu(self.h5(h5))                        # 72, 64, 96, 1\n",
    "        h6 = concat_vector(h6, h0_prev)                 # 72, 96, 96, 1\n",
    "\n",
    "        g_x = torch.sigmoid(self.h6(h6))                # 72, 1, 96, 64  ピッチ方向の逆畳み込み\n",
    "\n",
    "        return g_x"
   ]
  },
  {
   "cell_type": "markdown",
   "metadata": {},
   "source": [
    "動作確認"
   ]
  },
  {
   "cell_type": "code",
   "execution_count": 10,
   "metadata": {
    "deletable": false,
    "editable": false,
    "run_control": {
     "frozen": true
    }
   },
   "outputs": [],
   "source": [
    "batch = next(dataloader.__iter__())\n",
    "z = torch.randn(len(batch[0]), 100)"
   ]
  },
  {
   "cell_type": "code",
   "execution_count": 11,
   "metadata": {
    "deletable": false,
    "editable": false,
    "run_control": {
     "frozen": true
    }
   },
   "outputs": [
    {
     "name": "stdout",
     "output_type": "stream",
     "text": [
      "583155\n",
      "Timer: 2.028108\n",
      "torch.Size([100, 1, 96, 64])\n"
     ]
    }
   ],
   "source": [
    "G = Generator()\n",
    "print(count_params(G))\n",
    "with Timer():\n",
    "    g_out = G(z, batch[1], batch[2])\n",
    "print(g_out.shape)"
   ]
  },
  {
   "cell_type": "markdown",
   "metadata": {},
   "source": [
    "#### Discriminator\n",
    "forwardの入力\n",
    "- x (batch, 1, steps, pitch) = (72, 1, 96, 64): real/fake判定を行う小節データ\n",
    "- y (batch, 54) = (72, 96): コードの条件データ\n",
    "\n",
    "forwardの出力\n",
    "- h4_sigmoid (batch, 1) = (72, 1): 0~1に押し込められたreal/fake判定結果．0はfake, 1はreal\n",
    "- h4 (batch, 1) = (72, 1): 0~1に押し込められていないreal/fake判定結果\n",
    "\n",
    "こちらも層を1つ追加  "
   ]
  },
  {
   "cell_type": "code",
   "execution_count": 8,
   "metadata": {},
   "outputs": [],
   "source": [
    "class Discriminator(nn.Module):\n",
    "    def __init__(self, pitch_range=64):\n",
    "        super(Discriminator, self).__init__()\n",
    "        self.bars = 2\n",
    "        self.y_dim = 48 * self.bars\n",
    "\n",
    "        self.df_dim = 64\n",
    "        self.dfc_dim = 1024\n",
    "        \n",
    "        self.h0_prev = nn.Conv2d(\n",
    "            in_channels=self.y_dim + 1, \n",
    "            out_channels=self.y_dim + 1, \n",
    "            kernel_size=(2,pitch_range), \n",
    "            stride=(2,1)\n",
    "        )\n",
    "        \n",
    "        self.h1_prev = nn.Conv2d(\n",
    "            in_channels=self.y_dim + 1, \n",
    "            out_channels=self.y_dim + 1, \n",
    "            kernel_size=(2,1), \n",
    "            stride=(2,1)\n",
    "        )\n",
    "        \n",
    "        self.h2_prev = nn.Conv2d(\n",
    "            in_channels=self.y_dim + 1, \n",
    "            out_channels=self.y_dim + 1, \n",
    "            kernel_size=(3,1), \n",
    "            stride=(3,1)\n",
    "        )\n",
    "        \n",
    "        self.h3_prev = nn.Conv2d(\n",
    "            in_channels=self.y_dim + 1,\n",
    "            out_channels=self.df_dim, \n",
    "            kernel_size=(4,1), \n",
    "            stride=(2,1)\n",
    "        )\n",
    "        \n",
    "        self.sa2 = SelfAttention(self.y_dim + 1)\n",
    "        \n",
    "        self.linear1 = nn.Linear(self.df_dim * 3, self.dfc_dim)\n",
    "        self.linear2 = nn.Linear(self.dfc_dim, 1)\n",
    "\n",
    "    def forward(self, x, y):\n",
    "\n",
    "        batch_size = len(x)\n",
    "        \n",
    "        yb = y.view(batch_size, self.y_dim, 1, 1)   # 72, 96,  1,  1\n",
    "        x = concat_vector(x, yb)                    # 72, 97, 96, 64\n",
    "        \n",
    "        h0 = lrelu(self.h0_prev(x))     # 72, 97, 48, 1\n",
    "        h1 = lrelu(self.h1_prev(h0))    # 72, 97, 24, 1\n",
    "        h2 = lrelu(self.h2_prev(h1))    # 72, 97,  8, 1\n",
    "        h2 = self.sa2(h2)\n",
    "        h3 = lrelu(self.h3_prev(h2))    # 72, 64,  3, 1   8マス上で4マスのストライド2は3になる\n",
    "        h3 = h3.view(batch_size, -1)    # 72, 192\n",
    "        h4 = lrelu(self.linear1(h3))    # 72, 1024\n",
    "        h5 = self.linear2(h4)           # 72, 1\n",
    "        h5_sigmoid = torch.sigmoid(h5)  # 72, 1\n",
    "\n",
    "        return h5_sigmoid, h5"
   ]
  },
  {
   "cell_type": "markdown",
   "metadata": {},
   "source": [
    "動作確認"
   ]
  },
  {
   "cell_type": "code",
   "execution_count": 10,
   "metadata": {
    "deletable": false,
    "editable": false,
    "run_control": {
     "frozen": true
    }
   },
   "outputs": [],
   "source": [
    "batch = next(dataloader.__iter__())"
   ]
  },
  {
   "cell_type": "code",
   "execution_count": 20,
   "metadata": {
    "deletable": false,
    "editable": false,
    "run_control": {
     "frozen": true
    }
   },
   "outputs": [
    {
     "name": "stdout",
     "output_type": "stream",
     "text": [
      "1487100\n",
      "Timer: 6.288429\n",
      "torch.Size([100, 1])\n",
      "torch.Size([100, 1])\n"
     ]
    }
   ],
   "source": [
    "D = Discriminator()\n",
    "print(count_params(D))\n",
    "with Timer():\n",
    "    d_out_sigmoid, d_out = D(batch[0], batch[2])\n",
    "\n",
    "print(d_out_sigmoid.shape)\n",
    "print(d_out.shape)"
   ]
  },
  {
   "cell_type": "markdown",
   "metadata": {},
   "source": [
    "### パラメータの設定"
   ]
  },
  {
   "cell_type": "code",
   "execution_count": 9,
   "metadata": {},
   "outputs": [],
   "source": [
    "version = 'midinet_double_sa'\n",
    "input_data_path = os.path.join(base_dir, \"midinet_double.pkl\")"
   ]
  },
  {
   "cell_type": "code",
   "execution_count": 10,
   "metadata": {},
   "outputs": [],
   "source": [
    "save_dir = os.path.join(output_dir, version)\n",
    "\n",
    "if not os.path.isdir(save_dir):\n",
    "    os.mkdir(save_dir)"
   ]
  },
  {
   "cell_type": "code",
   "execution_count": 11,
   "metadata": {},
   "outputs": [],
   "source": [
    "sample_bar_num = 8  # 学習過程で保存する画像の小節数\n",
    "\n",
    "# for Adam\n",
    "d_lr = 0.0002\n",
    "g_lr = 0.0008\n",
    "betas = (0.9, 0.999)\n",
    "\n",
    "# noise vector size\n",
    "z_dim = 1024\n",
    "\n",
    "# feature matching coefficients\n",
    "fm_lambda = 0.5\n",
    "\n",
    "# adaptive gtt\n",
    "k, max_gtt = 4, 48"
   ]
  },
  {
   "cell_type": "markdown",
   "metadata": {},
   "source": [
    "### 学習初期化処理  "
   ]
  },
  {
   "cell_type": "code",
   "execution_count": 12,
   "metadata": {},
   "outputs": [
    {
     "name": "stdout",
     "output_type": "stream",
     "text": [
      "Data loading is completed.\n",
      "70 batches from 55617 bars are obtained.\n"
     ]
    }
   ],
   "source": [
    "batch_size = 800\n",
    "dataloader = get_dataloader(input_data_path, batch_size=batch_size)\n",
    "datasize = len(dataloader.dataset) // batch_size"
   ]
  },
  {
   "cell_type": "code",
   "execution_count": 13,
   "metadata": {},
   "outputs": [
    {
     "name": "stdout",
     "output_type": "stream",
     "text": [
      "D params: 1487100\n",
      "G params: 1529331\n"
     ]
    }
   ],
   "source": [
    "device = torch.device('cuda')\n",
    "\n",
    "D = Discriminator()\n",
    "G = Generator(z_dim=z_dim)\n",
    "\n",
    "if torch.cuda.is_available():\n",
    "    D = D.to(device)\n",
    "    G = G.to(device)\n",
    "\n",
    "d_optim = optim.Adam(D.parameters(), lr=d_lr, betas=betas)\n",
    "g_optim = optim.Adam(G.parameters(), lr=g_lr, betas=betas)\n",
    "\n",
    "sample_noise = torch.randn(sample_bar_num, z_dim).to(device)\n",
    "\n",
    "print(\"D params:\", count_params(D))\n",
    "print(\"G params:\", count_params(G))"
   ]
  },
  {
   "cell_type": "markdown",
   "metadata": {},
   "source": [
    "### 学習ループ"
   ]
  },
  {
   "cell_type": "code",
   "execution_count": 14,
   "metadata": {},
   "outputs": [],
   "source": [
    "def save_sample(G, sample_noise, prev, chord, epoch, directory):\n",
    "    sample_size = len(sample_noise)\n",
    "    sample_fake = G(sample_noise, prev[:sample_size], chord[:sample_size]).detach()\n",
    "    _, _, steps, pitch_range = sample_fake.shape\n",
    "    sample_fake = sample_fake.reshape(sample_size*steps, pitch_range).T\n",
    "    fake_image_path = os.path.join(directory, f'fake_samples_epoch{epoch:03}.png')\n",
    "    vutils.save_image(sample_fake, fake_image_path, normalize=True)\n",
    "    print(f\"{fake_image_path} saved.\")\n",
    "\n",
    "def save_model(G, D, epoch, directory):\n",
    "    hyper_param_str = f\"epoch={epoch:04}_z={G.z_dim}\"\n",
    "    G_file_path = os.path.join(directory, f'G_{hyper_param_str}.pth')\n",
    "    D_file_path = os.path.join(directory, f'D_{hyper_param_str}.pth')\n",
    "    torch.save(G.module.state_dict() if type(G) is MultiGPUWrapper else G.state_dict(), G_file_path)\n",
    "    torch.save(D.module.state_dict() if type(D) is MultiGPUWrapper else D.state_dict(), D_file_path)\n",
    "    print(\"Following models are saved.\")\n",
    "    print(G_file_path)\n",
    "    print(D_file_path)"
   ]
  },
  {
   "cell_type": "code",
   "execution_count": 15,
   "metadata": {},
   "outputs": [],
   "source": [
    "def train_gan_adaptive(G, D, g_optim, d_optim, k, max_gtt, fm_lambda, dataloader, epoch_num, output_dir, sample_noise, device,\n",
    "              start_epoch=1, clear_disp_epoch_period=3, save_epoch_period=None, get_status_dict=True):\n",
    "    \n",
    "    torch.backends.cudnn.benchmark = True\n",
    "    \n",
    "    batch_num = len(dataloader)\n",
    "    batch_size = dataloader.batch_size\n",
    "    data_size = len(dataloader.dataset) // batch_size\n",
    "    \n",
    "    status_dict = { \n",
    "        'd_loss': [], 'd_ans_real': [], 'd_ans_fake': [], \n",
    "        'g_loss': [], 'g_loss_fake': [], 'g_loss_fm': [], 'gtt': [] \n",
    "    }\n",
    "    \n",
    "    G.train()\n",
    "    D.train()\n",
    "\n",
    "    try:        \n",
    "        for epoch in range(start_epoch, epoch_num+1):\n",
    "            print(f\"----- Epoch {epoch:>3} / {epoch_num:<3} start -----\")\n",
    "            t_epoch_start = time.time()\n",
    "            \n",
    "            # adaptive gtt: 本物を本物と識別できる奴に偽物だと見破られるほど生成器が頑張る\n",
    "            if epoch != start_epoch:\n",
    "                avg_real = total_d_ans_real / data_size\n",
    "                avg_fake = total_d_ans_fake / data_size\n",
    "                gtt = min(max_gtt, max(1, int((avg_real - avg_fake) * 100)) * k)\n",
    "            else:\n",
    "                gtt = k\n",
    "            print(f\"generator train times: {gtt}\")\n",
    "            \n",
    "            total_d_loss = 0.0\n",
    "            total_d_ans_real = 0.0\n",
    "            total_d_ans_fake = 0.0\n",
    "            total_g_loss = 0.0\n",
    "            total_g_loss_fake = 0.0\n",
    "            total_g_loss_fm = 0.0\n",
    "            \n",
    "            for batch_iteration, (x, prev_x, y) in enumerate(dataloader, 1):\n",
    "                real, prev_x, y = [item.to(device) for item in [x, prev_x, y]]\n",
    "                \n",
    "                batch_size = real.size()[0]\n",
    "                \n",
    "                ############\n",
    "                # DのTurn\n",
    "                ############\n",
    "                D.zero_grad()\n",
    "\n",
    "                # realデータに対するLoss\n",
    "                d_ans_real, d_logits_real = D(real, y)\n",
    "                d_real_label = torch.rand_like(d_logits_real) * 0.5 + 0.7\n",
    "                d_loss_real = nn.BCEWithLogitsLoss()(d_logits_real, d_real_label)\n",
    "\n",
    "                # fakeデータに対するLoss\n",
    "                z = torch.randn(len(prev_x), G.z_dim).to(device)\n",
    "                fake = G(z, prev_x, y)\n",
    "                d_ans_fake, d_logits_fake = D(fake, y)\n",
    "                d_fake_label = torch.rand_like(d_logits_fake) * 0.3\n",
    "                d_loss_fake = nn.BCEWithLogitsLoss()(d_logits_fake, d_fake_label)\n",
    "\n",
    "                # DのLoss全体\n",
    "                d_loss = d_loss_real + d_loss_fake\n",
    "\n",
    "                # Dのパラメータを更新\n",
    "                d_loss.backward()\n",
    "                d_optim.step()\n",
    "\n",
    "                # Dに関する合計の記録\n",
    "                total_d_ans_real += d_ans_real.mean().item()\n",
    "                total_d_ans_fake += d_ans_fake.mean().item()\n",
    "                total_d_loss += d_loss.item()\n",
    "                \n",
    "                ############\n",
    "                # GのTurn\n",
    "                ############\n",
    "                for t in range(gtt):\n",
    "                    G.zero_grad()\n",
    "\n",
    "                    z = torch.randn(len(prev_x), G.z_dim).to(device)\n",
    "                    fake = G(z, prev_x, y)\n",
    "                    d_fake, d_logits_fake = D(fake, y)\n",
    "                    deceive_label = torch.ones_like(d_logits_fake)\n",
    "                    g_loss_fake = nn.BCEWithLogitsLoss()(d_logits_fake, deceive_label)\n",
    "                    \n",
    "                    # Gの特徴マッチング：Gがrealに近いデータを生成できるようにする\n",
    "                    # fakeデータとrealデータの違いが大きいほどペナルティを与える\n",
    "                    mean_g = torch.mean(fake, 0) # fakeデータの平均値\n",
    "                    mean_r = torch.mean(real, 0) # realデータの平均値\n",
    "                    g_loss_fm = nn.MSELoss(reduction='sum')(mean_g, mean_r) / 2\n",
    "                    g_loss_fm = torch.mul(g_loss_fm, fm_lambda)\n",
    "                    \n",
    "                    # GのLoss\n",
    "                    g_loss = g_loss_fake + g_loss_fm\n",
    "                    \n",
    "                    # Gのパラメータを更新\n",
    "                    g_loss.backward()\n",
    "                    g_optim.step()\n",
    "                \n",
    "                # Gに関する合計の記録\n",
    "                total_g_loss_fake += g_loss_fake.item()\n",
    "                total_g_loss_fm += g_loss_fm.item()\n",
    "                total_g_loss += g_loss.item()\n",
    "\n",
    "            ################\n",
    "            # EpochのReport\n",
    "            ################\n",
    "            \n",
    "            epoch_duration = time.time() - t_epoch_start\n",
    "            remain_sec = epoch_duration * (epoch_num - epoch)\n",
    "            print(f\"Epoch {epoch:>3} / {epoch_num:<3} finished in {epoch_duration:.4f}[sec]\")\n",
    "            print(f\"Remaining Time | {remain_sec/3600:.4f} [hour] | {remain_sec/60:.2f} [min] | {remain_sec:.0f} [sec]\")\n",
    "            \n",
    "            status_dict['d_loss'].append(total_d_loss / data_size)\n",
    "            status_dict['d_ans_real'].append(total_d_ans_real / data_size)\n",
    "            status_dict['d_ans_fake'].append(total_d_ans_fake / data_size)\n",
    "            status_dict['g_loss'].append(total_g_loss / data_size)\n",
    "            status_dict['g_loss_fake'].append(total_g_loss_fake / data_size)\n",
    "            status_dict['g_loss_fm'].append(total_g_loss_fm / data_size)\n",
    "            status_dict['gtt'].append(gtt)\n",
    "            \n",
    "            last_d_loss = status_dict['d_loss'][-1]\n",
    "            last_d_ans_real = status_dict['d_ans_real'][-1]\n",
    "            last_d_ans_fake = status_dict['d_ans_fake'][-1]\n",
    "            last_g_loss = status_dict['g_loss'][-1]\n",
    "            last_g_loss_fake = status_dict['g_loss_fake'][-1]\n",
    "            last_g_loss_fm = status_dict['g_loss_fm'][-1]\n",
    "            print(f\"==> D loss: {last_d_loss:.4f} | D ans real: {last_d_ans_real:.4f} | D ans fake: {last_d_ans_fake:.4f}\")\n",
    "            print(f\"==> G loss: {last_g_loss:.4f} | G loss fake: {last_g_loss_fake:.4f} | fm G loss: {last_g_loss_fm:.4f}\")\n",
    "            print(\"\")\n",
    "            \n",
    "            if epoch % clear_disp_epoch_period == 0:\n",
    "                clear_output()\n",
    "            \n",
    "            # チェックポイントモデルの保存\n",
    "            if (save_epoch_period is not None) and (epoch % save_epoch_period == 0):\n",
    "                save_model(G, D, epoch, output_dir)\n",
    "                save_sample(G, sample_noise, prev_x, y, epoch, output_dir)\n",
    "                print(\"\")\n",
    "\n",
    "        print(\"All Learning Finished!\")\n",
    "        \n",
    "    except KeyboardInterrupt:\n",
    "        print(\"Keyboard interrupted, but return models.\")\n",
    "        if get_status_dict:\n",
    "            return G, D, status_dict\n",
    "        return G, D\n",
    "    \n",
    "    if get_status_dict:\n",
    "        return G, D, status_dict\n",
    "    return G, D"
   ]
  },
  {
   "cell_type": "code",
   "execution_count": 16,
   "metadata": {},
   "outputs": [
    {
     "name": "stdout",
     "output_type": "stream",
     "text": [
      "Following models are saved.\n",
      "../datasets/theorytab/midinet/learning/midinet_double_sa/G_epoch=0300_z=1024.pth\n",
      "../datasets/theorytab/midinet/learning/midinet_double_sa/D_epoch=0300_z=1024.pth\n",
      "../datasets/theorytab/midinet/learning/midinet_double_sa/fake_samples_epoch300.png saved.\n",
      "\n",
      "----- Epoch 301 / 400 start -----\n",
      "generator train times: 36\n",
      "Keyboard interrupted, but return models.\n"
     ]
    }
   ],
   "source": [
    "epoch_num = 400\n",
    "\n",
    "G_trained, D_trained, status_dict = train_gan_adaptive(\n",
    "    G=G, D=D, g_optim=g_optim, d_optim=d_optim, \n",
    "    k=k, max_gtt=max_gtt, fm_lambda=fm_lambda,\n",
    "    dataloader=dataloader,\n",
    "    epoch_num=epoch_num,\n",
    "    sample_noise=sample_noise,\n",
    "    output_dir=save_dir,\n",
    "    device=device,\n",
    "    start_epoch=1,\n",
    "    clear_disp_epoch_period=5,\n",
    "    save_epoch_period=100\n",
    ")"
   ]
  },
  {
   "cell_type": "markdown",
   "metadata": {},
   "source": [
    "誤差グラフの表示"
   ]
  },
  {
   "cell_type": "code",
   "execution_count": 17,
   "metadata": {},
   "outputs": [],
   "source": [
    "def show_status_graph_gan_adaptive(status_dict, offset=0, burn_in=0, holizon=False, title=\"Score graphs of GAN\"):\n",
    "    d_loss = status_dict['d_loss']\n",
    "    g_loss = status_dict['g_loss']\n",
    "    \n",
    "    d_ans_real = status_dict['d_ans_real']\n",
    "    d_ans_fake = status_dict['d_ans_fake']\n",
    "    \n",
    "    g_loss_fake = status_dict['g_loss_fake']\n",
    "    g_loss_fm = status_dict['g_loss_fm']\n",
    "    \n",
    "    gtt = status_dict['gtt']\n",
    "    \n",
    "    if holizon:\n",
    "        fig, axs = plt.subplots(1, 4, figsize=(24, 6))\n",
    "    else:\n",
    "        fig, axs = plt.subplots(4, 1, figsize=(6, 24))\n",
    "    \n",
    "    x1, x2 = np.arange(len(d_loss))+offset, np.arange(len(g_loss))+offset\n",
    "    axs[0].plot(x1[burn_in:], d_loss[burn_in:], label='D loss', linewidth=1.5)\n",
    "    axs[0].plot(x2[burn_in:], g_loss[burn_in:], label='G loss', linewidth=1.5)\n",
    "    axs[0].legend(loc='upper right')\n",
    "    axs[0].set_xlabel('epoch')\n",
    "    axs[0].set_ylabel('loss')\n",
    "    axs[0].set_title(f\"Losses\")\n",
    "\n",
    "    axs[1].plot(x1[burn_in:], d_ans_real[burn_in:], label='real', linewidth=1.5)\n",
    "    axs[1].plot(x1[burn_in:], d_ans_fake[burn_in:], label='fake', linewidth=1.5)\n",
    "    axs[1].legend(loc='upper right')\n",
    "    axs[1].set_xlabel('epoch')\n",
    "    axs[1].set_ylabel('ans rate')\n",
    "    axs[1].set_title(f\"D ans rates\")\n",
    "    \n",
    "    axs[2].plot(x2[burn_in:], g_loss_fake[burn_in:], label='fake', linewidth=1.5)\n",
    "    axs[2].plot(x2[burn_in:], g_loss_fm[burn_in:], label='fm', linewidth=1.5)\n",
    "    axs[2].legend(loc='upper right')\n",
    "    axs[2].set_xlabel('epoch')\n",
    "    axs[2].set_ylabel('loss')\n",
    "    axs[2].set_title(f\"G break down\")\n",
    "    \n",
    "    x = np.arange(len(gtt)) + offset\n",
    "    axs[3].plot(x, gtt, label='gtt', linewidth=1.5)\n",
    "    axs[3].legend(loc='upper right')\n",
    "    axs[3].set_xlabel('epoch')\n",
    "    axs[3].set_ylabel('gtt')\n",
    "    axs[3].set_title(f\"G train times\")\n",
    "\n",
    "    plt.show()"
   ]
  },
  {
   "cell_type": "code",
   "execution_count": 18,
   "metadata": {},
   "outputs": [
    {
     "data": {
      "image/png": "[encoded data removed]",
      "text/plain": [
       "<Figure size 1728x432 with 4 Axes>"
      ]
     },
     "metadata": {
      "needs_background": "light"
     },
     "output_type": "display_data"
    }
   ],
   "source": [
    "show_status_graph_gan_adaptive(status_dict, holizon=True, burn_in=10)"
   ]
  },
  {
   "cell_type": "code",
   "execution_count": 21,
   "metadata": {},
   "outputs": [
    {
     "name": "stdout",
     "output_type": "stream",
     "text": [
      "3 images found in ../datasets/theorytab/midinet/learning/midinet_double_sa\n",
      "0: fake_samples_epoch100.png\n",
      "1: fake_samples_epoch200.png\n",
      "2: fake_samples_epoch300.png\n",
      "input the number of image:2\n"
     ]
    },
    {
     "data": {
      "text/plain": [
       "<matplotlib.image.AxesImage at 0x7f42658d5ef0>"
      ]
     },
     "execution_count": 21,
     "metadata": {},
     "output_type": "execute_result"
    },
    {
     "data": {
      "image/png": "[encoded data removed]",
      "text/plain": [
       "<Figure size 1512x504 with 1 Axes>"
      ]
     },
     "metadata": {
      "needs_background": "light"
     },
     "output_type": "display_data"
    }
   ],
   "source": [
    "image_paths = glob.glob(os.path.join(save_dir, \"fake_samples_*\"))\n",
    "image_paths.sort()\n",
    "\n",
    "print(f\"{len(image_paths)} images found in {save_dir}\")\n",
    "for i, path in enumerate(image_paths):\n",
    "    print(f\"{i}: {path.split('/')[-1]}\")\n",
    "\n",
    "image_path = image_paths[int(input(\"input the number of image:\"))]\n",
    "\n",
    "img = np.array(Image.open(image_path))\n",
    "fig, ax = plt.subplots(figsize=(21, 7))\n",
    "ax.imshow(img)"
   ]
  }
 ],
 "metadata": {
  "kernelspec": {
   "display_name": "Python 3",
   "language": "python",
   "name": "python3"
  },
  "language_info": {
   "codemirror_mode": {
    "name": "ipython",
    "version": 3
   },
   "file_extension": ".py",
   "mimetype": "text/x-python",
   "name": "python",
   "nbconvert_exporter": "python",
   "pygments_lexer": "ipython3",
   "version": "3.7.3"
  }
 },
 "nbformat": 4,
 "nbformat_minor": 4
}
