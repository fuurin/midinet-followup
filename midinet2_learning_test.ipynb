{
 "cells": [
  {
   "cell_type": "markdown",
   "metadata": {},
   "source": [
    "# midinet2モデルの学習のテスト\n",
    "上手く言ったモデルとは別にアブレーションスタディなどを行う"
   ]
  },
  {
   "cell_type": "code",
   "execution_count": 1,
   "metadata": {},
   "outputs": [],
   "source": [
    "import os, glob, time, ipdb, pickle, numpy as np\n",
    "visible_devices = [2]\n",
    "os.environ['CUDA_VISIBLE_DEVICES'] = ','.join([str(i) for i in visible_devices])\n",
    "\n",
    "import torch, torch.nn as nn\n",
    "import torch.nn.functional as F\n",
    "import torch.optim as optim\n",
    "import torchvision.utils as vutils\n",
    "from torch.utils.data import DataLoader\n",
    "from PIL import Image\n",
    "from multi_gpu import MultiGPUWrapper\n",
    "from utils import Timer, get_model, count_params\n",
    "from IPython.display import clear_output\n",
    "\n",
    "import matplotlib.pyplot as plt\n",
    "%matplotlib inline"
   ]
  },
  {
   "cell_type": "code",
   "execution_count": 2,
   "metadata": {},
   "outputs": [],
   "source": [
    "base_dir = \"../datasets/theorytab/midinet\"\n",
    "output_dir = f\"{base_dir}/learning\"\n",
    "\n",
    "if not os.path.isdir(output_dir):\n",
    "    os.mkdir(output_dir)"
   ]
  },
  {
   "cell_type": "markdown",
   "metadata": {},
   "source": [
    "## DataLoaderの作成"
   ]
  },
  {
   "cell_type": "code",
   "execution_count": 3,
   "metadata": {},
   "outputs": [],
   "source": [
    "class MidinetDataloader():\n",
    "    def __init__(self, data_path, pitch_range=[0, 64], show_shape=False):\n",
    "        data = pickle.load(open(data_path,'rb'))\n",
    "        \n",
    "        melody, prev, chord = [], [], []\n",
    "        for m, p, c in data:\n",
    "            melody.append(m)\n",
    "            prev.append(p)\n",
    "            chord.append(c)\n",
    "        \n",
    "        self.size = len(melody)\n",
    "        steps = len(melody[0])\n",
    "        bottom, top = pitch_range\n",
    "        \n",
    "        melody = np.array(melody)[:,:,bottom:top].reshape(self.size, 1, steps, top-bottom)\n",
    "        prev = np.array(prev)[:,:,bottom:top].reshape(self.size, 1, steps, top-bottom)\n",
    "        chord = np.array(chord)\n",
    "        \n",
    "        if show_shape:\n",
    "            print(\"melody shape\", melody.shape)\n",
    "            print(\"prev shape\", prev.shape)\n",
    "            print(\"condition shape\", chord.shape)\n",
    "        \n",
    "        self.x = torch.from_numpy(melody).float()\n",
    "        self.prev_x   = torch.from_numpy(prev).float()\n",
    "        self.y  = torch.from_numpy(chord).float()\n",
    "\n",
    "    def __getitem__(self, index):\n",
    "        return self.x[index], self.prev_x[index], self.y[index]\n",
    "\n",
    "    def __len__(self):\n",
    "        return self.size"
   ]
  },
  {
   "cell_type": "code",
   "execution_count": 4,
   "metadata": {},
   "outputs": [],
   "source": [
    "def get_dataloader(data_path, batch_size=72, shuffle=True):\n",
    "    iterator = MidinetDataloader(data_path)\n",
    "    kwargs = {'num_workers': 4, 'pin_memory': True}\n",
    "    data_loader = DataLoader(iterator, batch_size=batch_size, shuffle=shuffle, **kwargs)\n",
    "    print('Data loading is completed.')\n",
    "    print(f'{len(data_loader)} batches from {len(iterator)} bars are obtained.')\n",
    "    return data_loader"
   ]
  },
  {
   "cell_type": "markdown",
   "metadata": {},
   "source": [
    "## Modelの作成"
   ]
  },
  {
   "cell_type": "markdown",
   "metadata": {},
   "source": [
    "動作確認用"
   ]
  },
  {
   "cell_type": "code",
   "execution_count": 5,
   "metadata": {},
   "outputs": [
    {
     "name": "stdout",
     "output_type": "stream",
     "text": [
      "Data loading is completed.\n",
      "42964 batches from 85927 bars are obtained.\n"
     ]
    }
   ],
   "source": [
    "input_data_path = os.path.join(base_dir, \"midinetw.pkl\")\n",
    "dataloader = get_dataloader(input_data_path, batch_size=2)"
   ]
  },
  {
   "cell_type": "markdown",
   "metadata": {},
   "source": [
    "#### Generator\n",
    "ここからが本題.モデルの入力を変えたい  \n",
    "\n",
    "forwardの入力\n",
    "- z (batch, noise_size) = (72, 100): ランダムノイズ\n",
    "- prev_x (batch, ch, steps, pitch) = (72, 1, 48, 64): 前の小節\n",
    "- condition (batch, 54): 最初の12次元×4は拍ごとの和音, 最後の6次元はセクション\n",
    "\n",
    "forwardの出力\n",
    "- g_x (batch, ch, steps, pitch)= (72, 1, 48, 64): 生成された今の小節"
   ]
  },
  {
   "cell_type": "markdown",
   "metadata": {},
   "source": [
    "畳み込みを1段階増やす  \n",
    "おそらく三連譜が出てくるのは1/12分音符として使われるのが一般的だろうと踏んで，12->4のところでカーネルサイズを変更  \n",
    "prev_x -> ピッチ畳み込み -> 48 -> 24 -> 12 -> 4 -> 2 -> 1  \n",
    "ノイズ増やした方がいいかな？  \n",
    "あとなんでストライドが縦に2なのか？最初にpitch方向は1に潰してるから関係ないと思うけど"
   ]
  },
  {
   "cell_type": "markdown",
   "metadata": {},
   "source": [
    "共通関数"
   ]
  },
  {
   "cell_type": "code",
   "execution_count": 6,
   "metadata": {},
   "outputs": [],
   "source": [
    "def cat_vec(x, y):\n",
    "    x_0, _, x_2, x_3 = x.shape\n",
    "    y2 = y.expand(x_0, y.shape[1], x_2, x_3)\n",
    "    return torch.cat((x, y2),1)"
   ]
  },
  {
   "cell_type": "code",
   "execution_count": 7,
   "metadata": {},
   "outputs": [],
   "source": [
    "class Generator(nn.Module):    \n",
    "    \n",
    "    def conv(self, in_ch, out_shape, kernel_size, stride):\n",
    "        return nn.Sequential(\n",
    "            nn.Conv2d(in_ch, out_shape[0], kernel_size=kernel_size, stride=stride),\n",
    "            nn.LeakyReLU(0.2, inplace=True)\n",
    "        )\n",
    "    \n",
    "    def conv_t(self, in_ch, out_shape, kernel_size, stride):\n",
    "        return nn.Sequential(\n",
    "            nn.ConvTranspose2d(in_ch, out_shape[0], kernel_size=kernel_size, stride=stride),\n",
    "            nn.LeakyReLU(0.2, inplace=True)\n",
    "        )\n",
    "    \n",
    "    def dense(self, in_dim, out_dim,):\n",
    "        return nn.Sequential(\n",
    "            nn.Linear(in_dim, out_dim),\n",
    "            nn.LeakyReLU(0.2, inplace=True)\n",
    "        )\n",
    "    \n",
    "    def __init__(self, z_dim=100, pitch_range=64):\n",
    "        super(Generator, self).__init__()\n",
    "        self.z_dim  = z_dim\n",
    "        y_dim       = 48\n",
    "        out_len     = 48\n",
    "        pitch_range = 64\n",
    "        prev_ch     = 16\n",
    "        d1_out_dim  = 1024\n",
    "        d2_out_dim  = 128\n",
    "\n",
    "        self.p0 = self.conv(1,       (prev_ch, out_len//1 , 1), (1,pitch_range), (1,1))\n",
    "        self.p1 = self.conv(prev_ch, (prev_ch, out_len//2 , 1), (2,1), (2,1))\n",
    "        self.p2 = self.conv(prev_ch, (prev_ch, out_len//4 , 1), (2,1), (2,1))\n",
    "        self.p3 = self.conv(prev_ch, (prev_ch, out_len//12, 1), (3,1), (3,1))\n",
    "        self.p4 = self.conv(prev_ch, (prev_ch, out_len//24, 1), (2,1), (2,1))\n",
    "        \n",
    "        self.d1 = self.dense(y_dim+z_dim, d1_out_dim)\n",
    "        self.d2 = self.dense(y_dim+d1_out_dim, d2_out_dim * 2)\n",
    "        \n",
    "        self.x1 = self.conv_t(d2_out_dim +y_dim+prev_ch, (pitch_range, out_len//12, 1), (2,1), (2,1))\n",
    "        self.x2 = self.conv_t(pitch_range+y_dim+prev_ch, (pitch_range, out_len//4 , 1), (3,1), (3,1))\n",
    "        self.x3 = self.conv_t(pitch_range+y_dim+prev_ch, (pitch_range, out_len//2 , 1), (2,1), (2,1))\n",
    "        self.x4 = self.conv_t(pitch_range+y_dim+prev_ch, (pitch_range, out_len//1 , 1), (2,1), (2,1))\n",
    "        self.x5 = self.conv_t(pitch_range+y_dim+prev_ch, (1, out_len, 64), (1,pitch_range), (1,1))\n",
    "\n",
    "    def forward(self, z, pv, y):\n",
    "        p0 = self.p0(pv)    # 72, 16, 48, 1 ピッチ方向の畳み込み\n",
    "        p1 = self.p1(p0)    # 72, 16, 24, 1\n",
    "        p2 = self.p2(p1)    # 72, 16, 12, 1\n",
    "        p3 = self.p3(p2)    # 72, 16,  4, 1\n",
    "        p4 = self.p4(p3)    # 72, 16,  2, 1\n",
    "\n",
    "        yb = y.view(len(z), y.shape[1], 1, 1)       # 72, 48, 1, 1\n",
    "        \n",
    "        x0 = torch.cat((z,y),1)                     # 72, 148\n",
    "        x0 = torch.cat((self.d1(x0), y), 1)         # 72, 1078\n",
    "\n",
    "        x1 = self.d2(x0)                            # 72, 256\n",
    "        x1 = x1.view(len(z), x1.shape[1]//2, 2, 1)  # 72, 128,  2, 1\n",
    "        x1 = cat_vec(cat_vec(x1, yb), p4)           # 72, 164,  2, 1\n",
    "        \n",
    "        x2 = cat_vec(cat_vec(self.x1(x1), yb), p3)  # 72, 134,  4, 1 逆畳み込み． チャンネル数は固定で，3次元目が拡大される\n",
    "        x3 = cat_vec(cat_vec(self.x2(x2), yb), p2)  # 72, 134, 12, 1\n",
    "        x4 = cat_vec(cat_vec(self.x3(x3), yb), p1)  # 72, 134, 24, 1\n",
    "        x5 = cat_vec(cat_vec(self.x4(x4), yb), p0)  # 72, 134, 48, 1\n",
    "        x_out = self.x5(x5)                         # 72,   1, 48, 64\n",
    "\n",
    "        return torch.sigmoid(x_out)"
   ]
  },
  {
   "cell_type": "code",
   "execution_count": 8,
   "metadata": {
    "deletable": false,
    "editable": false,
    "run_control": {
     "frozen": true
    }
   },
   "outputs": [],
   "source": [
    "batch = next(dataloader.__iter__())\n",
    "z = torch.randn(len(batch[0]), 100)"
   ]
  },
  {
   "cell_type": "code",
   "execution_count": 9,
   "metadata": {
    "deletable": false,
    "editable": false,
    "run_control": {
     "frozen": true
    }
   },
   "outputs": [
    {
     "name": "stdout",
     "output_type": "stream",
     "text": [
      "521041\n",
      "Timer: 0.014793\n",
      "torch.Size([2, 1, 48, 64])\n"
     ]
    }
   ],
   "source": [
    "G = Generator()\n",
    "print(count_params(G))\n",
    "with Timer():\n",
    "    g_out = G(z, batch[1], batch[2])\n",
    "print(g_out.shape)"
   ]
  },
  {
   "cell_type": "markdown",
   "metadata": {},
   "source": [
    "#### Discriminator\n",
    "forwardの入力\n",
    "- x (batch, 1, steps, pitch) = (72, 1, 48, 64): real/fake判定を行う小節データ\n",
    "- y (batch, 54) = (72, 54): コード＋セクションの条件データ\n",
    "\n",
    "forwardの出力\n",
    "- h4_sigmoid (batch, 1) = (72, 1): 0~1に押し込められたreal/fake判定結果．0はfake, 1はreal\n",
    "- h4 (batch, 1) = (72, 1): 0~1に押し込められていないreal/fake判定結果\n",
    "- fm (batch, 1+13, steps, pitch) = (72, 109, 8, 1): 特徴マップ．\n",
    "\n",
    "こちらも層を1つ追加  \n",
    "思ったんだけどprev_xは識別に使わなくていいの？"
   ]
  },
  {
   "cell_type": "code",
   "execution_count": 8,
   "metadata": {},
   "outputs": [],
   "source": [
    "class Discriminator(nn.Module):\n",
    "    \n",
    "    def conv(self, in_ch, out_shape, kernel_size, stride):\n",
    "        return nn.Sequential(\n",
    "            nn.utils.spectral_norm(\n",
    "                nn.Conv2d(in_ch, out_shape[0], kernel_size=kernel_size, stride=stride)\n",
    "            ),\n",
    "            nn.LeakyReLU(0.2, inplace=True)\n",
    "        )\n",
    "    \n",
    "    def dense(self, in_dim, out_dim,):\n",
    "        return nn.Sequential(\n",
    "            nn.utils.spectral_norm(\n",
    "                nn.Linear(in_dim, out_dim)\n",
    "            ),\n",
    "            nn.LeakyReLU(0.2, inplace=True)\n",
    "        )\n",
    "    \n",
    "    def __init__(self, pitch_range=64):\n",
    "        super(Discriminator, self).__init__()\n",
    "        y_dim      = 48\n",
    "        c_out_dim  = 64\n",
    "        d1_out_dim = 512\n",
    "        \n",
    "        self.c0 = self.conv(1        +y_dim, (c_out_dim, 24, 1), (1,pitch_range), (2,1))\n",
    "        self.c1 = self.conv(c_out_dim+y_dim, (c_out_dim,  8, 1), (3,1), (3,1))\n",
    "        self.c2 = self.conv(c_out_dim+y_dim, (c_out_dim,  3, 1), (4,1), (2,1))\n",
    "        \n",
    "        self.d1 = self.dense(c_out_dim*3+y_dim, d1_out_dim)\n",
    "        self.d2 = nn.Linear(d1_out_dim+y_dim, 1)\n",
    "\n",
    "    def forward(self, x, y):\n",
    "        yb = y.view(len(x), y.shape[1], 1, 1)\n",
    "        \n",
    "        x  = cat_vec(x, yb)             # 72,  49, 48, 64\n",
    "        c0 = cat_vec(self.c0(x), yb)    # 72, 112, 24, 1\n",
    "        c1 = cat_vec(self.c1(c0), yb)   # 72, 112, 8, 1\n",
    "\n",
    "        c2 = self.c2(c1)                # 72,  64, 3, 1 8マス上で4マスのストライド2は3になる\n",
    "        c2 = c2.view(len(x), -1)        # 72, 192\n",
    "        c2 = torch.cat((c2,y), 1)       # 72, 240\n",
    "\n",
    "        c3 = self.d1(c2)                # 72, 512\n",
    "        c3 = torch.cat((c3,y), 1)       # 72, 560\n",
    "        \n",
    "        d_out = self.d2(c3)             # 72, 1\n",
    "\n",
    "        return torch.sigmoid(d_out), d_out"
   ]
  },
  {
   "cell_type": "markdown",
   "metadata": {},
   "source": [
    "動作確認"
   ]
  },
  {
   "cell_type": "code",
   "execution_count": 9,
   "metadata": {
    "deletable": false,
    "editable": false,
    "run_control": {
     "frozen": true
    }
   },
   "outputs": [],
   "source": [
    "batch = next(dataloader.__iter__())"
   ]
  },
  {
   "cell_type": "code",
   "execution_count": 15,
   "metadata": {
    "deletable": false,
    "editable": false,
    "run_control": {
     "frozen": true
    }
   },
   "outputs": [
    {
     "name": "stdout",
     "output_type": "stream",
     "text": [
      "375025\n",
      "Timer: 0.049948\n",
      "torch.Size([2, 1])\n",
      "torch.Size([2, 1])\n"
     ]
    }
   ],
   "source": [
    "D = Discriminator()\n",
    "print(count_params(D))\n",
    "with Timer():\n",
    "    d_out_sigmoid, d_out = D(batch[0], batch[2])\n",
    "\n",
    "print(d_out_sigmoid.shape)\n",
    "print(d_out.shape)"
   ]
  },
  {
   "cell_type": "markdown",
   "metadata": {},
   "source": [
    "### ハイパーパラメータの設定"
   ]
  },
  {
   "cell_type": "code",
   "execution_count": 9,
   "metadata": {},
   "outputs": [],
   "source": [
    "version = 'midinet2_nosection_test'\n",
    "input_data_path = os.path.join(base_dir, \"midinetw.pkl\")\n",
    "save_dir = os.path.join(output_dir, version)\n",
    "\n",
    "if not os.path.isdir(save_dir):\n",
    "    os.mkdir(save_dir)"
   ]
  },
  {
   "cell_type": "code",
   "execution_count": 10,
   "metadata": {},
   "outputs": [],
   "source": [
    "# for Adam\n",
    "d_lr = 0.0002\n",
    "g_lr = 0.0002\n",
    "betas = (0.9, 0.999)\n",
    "\n",
    "# noise vector size\n",
    "z_dim = 512\n",
    "\n",
    "# feature matching coefficients\n",
    "fm_lambda = 0.5\n",
    "\n",
    "# adaptive gtt gan\n",
    "k, max_gtt = 2, 50"
   ]
  },
  {
   "cell_type": "markdown",
   "metadata": {},
   "source": [
    "### 学習初期化処理  "
   ]
  },
  {
   "cell_type": "code",
   "execution_count": 11,
   "metadata": {},
   "outputs": [
    {
     "name": "stdout",
     "output_type": "stream",
     "text": [
      "Data loading is completed.\n",
      "22 batches from 85927 bars are obtained.\n"
     ]
    }
   ],
   "source": [
    "batch_size = 4000\n",
    "dataloader = get_dataloader(input_data_path, batch_size=batch_size)"
   ]
  },
  {
   "cell_type": "code",
   "execution_count": 12,
   "metadata": {},
   "outputs": [
    {
     "name": "stdout",
     "output_type": "stream",
     "text": [
      "New models are created!\n",
      "D params: 375025\n",
      "G params: 942929\n"
     ]
    }
   ],
   "source": [
    "device = torch.device('cuda')\n",
    "\n",
    "D = Discriminator()\n",
    "G = Generator(z_dim=z_dim)\n",
    "\n",
    "if torch.cuda.is_available():\n",
    "    D = D.to(device)\n",
    "    G = G.to(device)\n",
    "\n",
    "d_optim = optim.Adam(D.parameters(), lr=d_lr, betas=betas)\n",
    "g_optim = optim.Adam(G.parameters(), lr=g_lr, betas=betas)\n",
    "\n",
    "noise_for_sample = torch.randn(8, z_dim).to(device)\n",
    "\n",
    "print(\"New models are created!\")\n",
    "print(\"D params:\", count_params(D))\n",
    "print(\"G params:\", count_params(G))"
   ]
  },
  {
   "cell_type": "markdown",
   "metadata": {},
   "source": [
    "### 学習ループ"
   ]
  },
  {
   "cell_type": "code",
   "execution_count": 13,
   "metadata": {},
   "outputs": [],
   "source": [
    "def save_sample(G, sample_noise, prev, chord, epoch, directory):\n",
    "    sample_size = len(sample_noise)\n",
    "    sample_fake = G(sample_noise, prev[:sample_size], chord[:sample_size]).detach()\n",
    "    _, _, steps, pitch_range = sample_fake.shape\n",
    "    sample_fake = sample_fake.reshape(sample_size*steps, pitch_range).T\n",
    "    fake_image_path = os.path.join(directory, f'fake_samples_epoch{epoch:03}.png')\n",
    "    vutils.save_image(sample_fake, fake_image_path, normalize=True)\n",
    "    print(f\"{fake_image_path} saved.\")\n",
    "\n",
    "def save_model(G, D, epoch, directory):\n",
    "    hyper_param_str = f\"epoch={epoch:04}_z={G.z_dim}\"\n",
    "    G_file_path = os.path.join(directory, f'G_{hyper_param_str}.pth')\n",
    "    D_file_path = os.path.join(directory, f'D_{hyper_param_str}.pth')\n",
    "    torch.save(G.module.state_dict() if type(G) is MultiGPUWrapper else G.state_dict(), G_file_path)\n",
    "    torch.save(D.module.state_dict() if type(D) is MultiGPUWrapper else D.state_dict(), D_file_path)\n",
    "    print(\"Following models are saved.\")\n",
    "    print(G_file_path)\n",
    "    print(D_file_path)"
   ]
  },
  {
   "cell_type": "code",
   "execution_count": 14,
   "metadata": {},
   "outputs": [],
   "source": [
    "def train_gan_adaptive(G, D, g_optim, d_optim, k, max_gtt, fm_lambda, dataloader, epoch_num, output_dir, sample_noise, device,\n",
    "              start_epoch=1, clear_disp_epoch_period=3, save_epoch_period=None, get_status_dict=True):\n",
    "    \n",
    "    torch.backends.cudnn.benchmark = True\n",
    "    \n",
    "    batch_num = len(dataloader)\n",
    "    batch_size = dataloader.batch_size\n",
    "    data_size = len(dataloader.dataset) // batch_size\n",
    "    \n",
    "    status_dict = { \n",
    "        'd_loss': [], 'd_ans_real': [], 'd_ans_fake': [], \n",
    "        'g_loss': [], 'g_loss_fake': [], 'g_loss_fm': [], 'gtt': [] \n",
    "    }\n",
    "    \n",
    "    G.train()\n",
    "    D.train()\n",
    "\n",
    "    try:        \n",
    "        for epoch in range(start_epoch, epoch_num+1):\n",
    "            print(f\"----- Epoch {epoch:>3} / {epoch_num:<3} start -----\")\n",
    "            t_epoch_start = time.time()\n",
    "            \n",
    "            # adaptive gtt: 本物を本物と識別できる奴に偽物だと見破られるほど生成器が頑張る\n",
    "            if epoch != start_epoch:\n",
    "                avg_real = total_d_ans_real / data_size\n",
    "                avg_fake = total_d_ans_fake / data_size\n",
    "                gtt = min(max_gtt, max(1, int((avg_real - avg_fake) * 100)) * k)\n",
    "            else:\n",
    "                gtt = k\n",
    "            print(f\"generator train times: {gtt}\")\n",
    "            \n",
    "            total_d_loss = 0.0\n",
    "            total_d_ans_real = 0.0\n",
    "            total_d_ans_fake = 0.0\n",
    "            total_g_loss = 0.0\n",
    "            total_g_loss_fake = 0.0\n",
    "            total_g_loss_fm = 0.0\n",
    "            \n",
    "            for batch_iteration, (x, prev_x, y) in enumerate(dataloader, 1):\n",
    "                real, prev_x, y = [item.to(device) for item in [x, prev_x, y]]\n",
    "                \n",
    "                batch_size = real.size()[0]\n",
    "                \n",
    "                ############\n",
    "                # DのTurn\n",
    "                ############\n",
    "                D.zero_grad()\n",
    "\n",
    "                # realデータに対するLoss\n",
    "                d_ans_real, d_logits_real = D(real, y)\n",
    "                d_real_label = torch.rand_like(d_logits_real) * 0.5 + 0.7\n",
    "                d_loss_real = nn.BCEWithLogitsLoss()(d_logits_real, d_real_label)\n",
    "\n",
    "                # fakeデータに対するLoss\n",
    "                z = torch.randn(len(prev_x), G.z_dim).to(device)\n",
    "                fake = G(z, prev_x, y)\n",
    "                d_ans_fake, d_logits_fake = D(fake, y)\n",
    "                d_fake_label = torch.rand_like(d_logits_fake) * 0.3\n",
    "                d_loss_fake = nn.BCEWithLogitsLoss()(d_logits_fake, d_fake_label)\n",
    "\n",
    "                # DのLoss全体\n",
    "                d_loss = d_loss_real + d_loss_fake\n",
    "\n",
    "                # Dのパラメータを更新\n",
    "                d_loss.backward()\n",
    "                d_optim.step()\n",
    "\n",
    "                # Dに関する合計の記録\n",
    "                total_d_ans_real += d_ans_real.mean().item()\n",
    "                total_d_ans_fake += d_ans_fake.mean().item()\n",
    "                total_d_loss += d_loss.item()\n",
    "                \n",
    "                ############\n",
    "                # GのTurn\n",
    "                ############\n",
    "                for t in range(gtt):\n",
    "                    G.zero_grad()\n",
    "\n",
    "                    z = torch.randn(len(prev_x), G.z_dim).to(device)\n",
    "                    fake = G(z, prev_x, y)\n",
    "                    d_fake, d_logits_fake = D(fake, y)\n",
    "                    deceive_label = torch.ones_like(d_logits_fake)\n",
    "                    g_loss_fake = nn.BCEWithLogitsLoss()(d_logits_fake, deceive_label)\n",
    "                    \n",
    "                    # Gの特徴マッチング：Gがrealに近いデータを生成できるようにする\n",
    "                    # fakeデータとrealデータの違いが大きいほどペナルティを与える\n",
    "                    mean_g = torch.mean(fake, 0) # fakeデータの平均値\n",
    "                    mean_r = torch.mean(real, 0)   # realデータの平均値\n",
    "                    g_loss_fm = nn.MSELoss(reduction='sum')(mean_g, mean_r) / 2\n",
    "                    g_loss_fm = torch.mul(g_loss_fm, fm_lambda)\n",
    "                    \n",
    "                    # GのLoss\n",
    "                    g_loss = g_loss_fake + g_loss_fm\n",
    "                    \n",
    "                    # Gのパラメータを更新\n",
    "                    g_loss.backward()\n",
    "                    g_optim.step()\n",
    "                \n",
    "                # Gに関する合計の記録\n",
    "                total_g_loss_fake += g_loss_fake.item()\n",
    "                total_g_loss_fm += g_loss_fm.item()\n",
    "                total_g_loss += g_loss.item()\n",
    "\n",
    "            ################\n",
    "            # EpochのReport\n",
    "            ################\n",
    "            \n",
    "            epoch_duration = time.time() - t_epoch_start\n",
    "            remain_sec = epoch_duration * (epoch_num - epoch)\n",
    "            print(f\"Epoch {epoch:>3} / {epoch_num:<3} finished in {epoch_duration:.4f}[sec]\")\n",
    "            print(f\"Remaining Time | {remain_sec/3600:.4f} [hour] | {remain_sec/60:.2f} [min] | {remain_sec:.0f} [sec]\")\n",
    "            \n",
    "            status_dict['d_loss'].append(total_d_loss / data_size)\n",
    "            status_dict['d_ans_real'].append(total_d_ans_real / data_size)\n",
    "            status_dict['d_ans_fake'].append(total_d_ans_fake / data_size)\n",
    "            status_dict['g_loss'].append(total_g_loss / data_size)\n",
    "            status_dict['g_loss_fake'].append(total_g_loss_fake / data_size)\n",
    "            status_dict['g_loss_fm'].append(total_g_loss_fm / data_size)\n",
    "            status_dict['gtt'].append(gtt)\n",
    "            \n",
    "            last_d_loss = status_dict['d_loss'][-1]\n",
    "            last_d_ans_real = status_dict['d_ans_real'][-1]\n",
    "            last_d_ans_fake = status_dict['d_ans_fake'][-1]\n",
    "            last_g_loss = status_dict['g_loss'][-1]\n",
    "            last_g_loss_fake = status_dict['g_loss_fake'][-1]\n",
    "            last_g_loss_fm = status_dict['g_loss_fm'][-1]\n",
    "            print(f\"==> D loss: {last_d_loss:.4f} | D ans real: {last_d_ans_real:.4f} | D ans fake: {last_d_ans_fake:.4f}\")\n",
    "            print(f\"==> G loss: {last_g_loss:.4f} | G loss fake: {last_g_loss_fake:.4f} | fm G loss: {last_g_loss_fm:.4f}\")\n",
    "            print(\"\")\n",
    "            \n",
    "            if epoch % clear_disp_epoch_period == 0:\n",
    "                clear_output()\n",
    "            \n",
    "            # チェックポイントモデルの保存\n",
    "            if (save_epoch_period is not None) and (epoch % save_epoch_period == 0):\n",
    "                save_model(G, D, epoch, output_dir)\n",
    "                save_sample(G, sample_noise, prev_x, y, epoch, output_dir)\n",
    "                print(\"\")\n",
    "\n",
    "        print(\"All Learning Finished!\")\n",
    "        \n",
    "    except KeyboardInterrupt:\n",
    "        print(\"Keyboard interrupted, but return models.\")\n",
    "        if get_status_dict:\n",
    "            return G, D, status_dict\n",
    "        return G, D\n",
    "    \n",
    "    if get_status_dict:\n",
    "        return G, D, status_dict\n",
    "    return G, D"
   ]
  },
  {
   "cell_type": "code",
   "execution_count": 15,
   "metadata": {},
   "outputs": [
    {
     "name": "stdout",
     "output_type": "stream",
     "text": [
      "Following models are saved.\n",
      "../datasets/theorytab/midinet/learning/midinet2_nosection_test/G_epoch=0500_z=512.pth\n",
      "../datasets/theorytab/midinet/learning/midinet2_nosection_test/D_epoch=0500_z=512.pth\n",
      "../datasets/theorytab/midinet/learning/midinet2_nosection_test/fake_samples_epoch500.png saved.\n",
      "\n",
      "All Learning Finished!\n"
     ]
    }
   ],
   "source": [
    "epoch_num = 500\n",
    "\n",
    "G_trained, D_trained, status_dict = train_gan_adaptive(\n",
    "    G=G, D=D, g_optim=g_optim, d_optim=d_optim, \n",
    "    k=k, max_gtt=max_gtt, fm_lambda=fm_lambda,\n",
    "    dataloader=dataloader,\n",
    "    epoch_num=epoch_num,\n",
    "    sample_noise=noise_for_sample,\n",
    "    output_dir=save_dir,\n",
    "    device=device,\n",
    "    start_epoch=1,\n",
    "    clear_disp_epoch_period=5,\n",
    "    save_epoch_period=100\n",
    ")"
   ]
  },
  {
   "cell_type": "markdown",
   "metadata": {},
   "source": [
    "ステータスグラフの表示"
   ]
  },
  {
   "cell_type": "code",
   "execution_count": 16,
   "metadata": {},
   "outputs": [],
   "source": [
    "def show_status_graph_gan_adaptive(status_dict, offset=0, burn_in=0, holizon=False, title=\"Score graphs of GAN\"):\n",
    "    d_loss = status_dict['d_loss']\n",
    "    g_loss = status_dict['g_loss']\n",
    "    \n",
    "    d_ans_real = status_dict['d_ans_real']\n",
    "    d_ans_fake = status_dict['d_ans_fake']\n",
    "    \n",
    "    g_loss_fake = status_dict['g_loss_fake']\n",
    "    g_loss_fm = status_dict['g_loss_fm']\n",
    "    \n",
    "    gtt = status_dict['gtt']\n",
    "    \n",
    "    if holizon:\n",
    "        fig, axs = plt.subplots(1, 4, figsize=(24, 6))\n",
    "    else:\n",
    "        fig, axs = plt.subplots(4, 1, figsize=(6, 24))\n",
    "    \n",
    "    x1, x2 = np.arange(len(d_loss))+offset, np.arange(len(g_loss))+offset\n",
    "    axs[0].plot(x1[burn_in:], d_loss[burn_in:], label='D loss', linewidth=1.5)\n",
    "    axs[0].plot(x2[burn_in:], g_loss[burn_in:], label='G loss', linewidth=1.5)\n",
    "    axs[0].legend(loc='upper right')\n",
    "    axs[0].set_xlabel('epoch')\n",
    "    axs[0].set_ylabel('loss')\n",
    "    axs[0].set_title(f\"Losses\")\n",
    "\n",
    "    axs[1].plot(x1[burn_in:], d_ans_real[burn_in:], label='real', linewidth=1.5)\n",
    "    axs[1].plot(x1[burn_in:], d_ans_fake[burn_in:], label='fake', linewidth=1.5)\n",
    "    axs[1].legend(loc='upper right')\n",
    "    axs[1].set_xlabel('epoch')\n",
    "    axs[1].set_ylabel('ans rate')\n",
    "    axs[1].set_title(f\"D ans rates\")\n",
    "    \n",
    "    axs[2].plot(x2[burn_in:], g_loss_fake[burn_in:], label='fake', linewidth=1.5)\n",
    "    axs[2].plot(x2[burn_in:], g_loss_fm[burn_in:], label='fm', linewidth=1.5)\n",
    "    axs[2].legend(loc='upper right')\n",
    "    axs[2].set_xlabel('epoch')\n",
    "    axs[2].set_ylabel('loss')\n",
    "    axs[2].set_title(f\"G break down\")\n",
    "    \n",
    "    x = np.arange(len(gtt)) + offset\n",
    "    axs[3].plot(x, gtt, label='gtt', linewidth=1.5)\n",
    "    axs[3].legend(loc='upper right')\n",
    "    axs[3].set_xlabel('epoch')\n",
    "    axs[3].set_ylabel('gtt')\n",
    "    axs[3].set_title(f\"G train times\")\n",
    "\n",
    "    plt.show()"
   ]
  },
  {
   "cell_type": "code",
   "execution_count": 17,
   "metadata": {},
   "outputs": [
    {
     "data": {
      "image/png": "[encoded data removed]",
      "text/plain": [
       "<Figure size 1728x432 with 4 Axes>"
      ]
     },
     "metadata": {
      "needs_background": "light"
     },
     "output_type": "display_data"
    }
   ],
   "source": [
    "show_status_graph_gan_adaptive(status_dict, holizon=True, burn_in=0)"
   ]
  },
  {
   "cell_type": "code",
   "execution_count": 22,
   "metadata": {},
   "outputs": [
    {
     "name": "stdout",
     "output_type": "stream",
     "text": [
      "5 images found in ../datasets/theorytab/midinet/learning/midinet2_nosection_test\n",
      "0: fake_samples_epoch100.png\n",
      "1: fake_samples_epoch200.png\n",
      "2: fake_samples_epoch300.png\n",
      "3: fake_samples_epoch400.png\n",
      "4: fake_samples_epoch500.png\n",
      "input the number of image:4\n"
     ]
    },
    {
     "data": {
      "text/plain": [
       "<matplotlib.image.AxesImage at 0x7f1e6009d2e8>"
      ]
     },
     "execution_count": 22,
     "metadata": {},
     "output_type": "execute_result"
    },
    {
     "data": {
      "image/png": "[encoded data removed]",
      "text/plain": [
       "<Figure size 1512x504 with 1 Axes>"
      ]
     },
     "metadata": {
      "needs_background": "light"
     },
     "output_type": "display_data"
    }
   ],
   "source": [
    "image_paths = glob.glob(os.path.join(save_dir, \"fake_samples_*\"))\n",
    "image_paths.sort()\n",
    "\n",
    "print(f\"{len(image_paths)} images found in {save_dir}\")\n",
    "for i, path in enumerate(image_paths):\n",
    "    print(f\"{i}: {path.split('/')[-1]}\")\n",
    "\n",
    "image_path = image_paths[int(input(\"input the number of image:\"))]\n",
    "\n",
    "img = np.array(Image.open(image_path))\n",
    "fig, ax = plt.subplots(figsize=(21, 7))\n",
    "ax.imshow(img)"
   ]
  }
 ],
 "metadata": {
  "kernelspec": {
   "display_name": "Python 3",
   "language": "python",
   "name": "python3"
  },
  "language_info": {
   "codemirror_mode": {
    "name": "ipython",
    "version": 3
   },
   "file_extension": ".py",
   "mimetype": "text/x-python",
   "name": "python",
   "nbconvert_exporter": "python",
   "pygments_lexer": "ipython3",
   "version": "3.7.3"
  }
 },
 "nbformat": 4,
 "nbformat_minor": 4
}
