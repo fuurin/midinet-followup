{
 "cells": [
  {
   "cell_type": "markdown",
   "metadata": {},
   "source": [
    "# MidiNet用データの作成，前処理"
   ]
  },
  {
   "cell_type": "markdown",
   "metadata": {},
   "source": [
    "用意するデータ\n",
    "- bar (N, steps, pitch_range)\n",
    "- bar_prev (N, steps, pitch_range)\n",
    "- chord (N, 13) (0~12は主音，13は0: major, 1: minor)"
   ]
  },
  {
   "cell_type": "markdown",
   "metadata": {},
   "source": [
    "chordのXMLデータはあるみたいだけど結局処理がめんどそうなのでchromaで判定した方が楽そう"
   ]
  },
  {
   "cell_type": "markdown",
   "metadata": {},
   "source": [
    "処理の方針  \n",
    "次の4つのタイプのデータを用意\n",
    "- original: 論文に書かれているもの\n",
    "- clipped: MIDI音程を128から64にシフトしたもの．メロディのシフトはそこから外れたもののみを使用\n",
    "- headed: 音符の開始地点に，何ステップ伸びる音符であるかを記したもの\n",
    "  \n",
    "次のようなデータも扱いたいが，これらはモデルの改変が必要である\n",
    "- head-conditioned: 音符の開始地点であるという情報を別のチャネルにしたもの\n",
    "- diatonic: コードをルート音7つのみで表現したもの"
   ]
  },
  {
   "cell_type": "markdown",
   "metadata": {},
   "source": [
    "## データ読込"
   ]
  },
  {
   "cell_type": "code",
   "execution_count": 76,
   "metadata": {},
   "outputs": [],
   "source": [
    "import os, ipdb\n",
    "import numpy as np\n",
    "import pandas as pd\n",
    "from pypianoroll import Multitrack, Track\n",
    "from processors import SequentialProcessor, Processor\n",
    "from utils import grid_plot, Timer\n",
    "\n",
    "import matplotlib.pyplot as plt\n",
    "%matplotlib inline"
   ]
  },
  {
   "cell_type": "code",
   "execution_count": 2,
   "metadata": {},
   "outputs": [],
   "source": [
    "base_dir = \"../datasets/theorytab\"\n",
    "input_dir = f\"{base_dir}/pianoroll\"\n",
    "input_csv = f\"{base_dir}/theorytab.csv\"\n",
    "output_dir = f\"{base_dir}/midinet\""
   ]
  },
  {
   "cell_type": "code",
   "execution_count": 3,
   "metadata": {},
   "outputs": [
    {
     "name": "stdout",
     "output_type": "stream",
     "text": [
      "(39614, 19)\n"
     ]
    },
    {
     "data": {
      "text/html": [
       "<div>\n",
       "<style scoped>\n",
       "    .dataframe tbody tr th:only-of-type {\n",
       "        vertical-align: middle;\n",
       "    }\n",
       "\n",
       "    .dataframe tbody tr th {\n",
       "        vertical-align: top;\n",
       "    }\n",
       "\n",
       "    .dataframe thead th {\n",
       "        text-align: right;\n",
       "    }\n",
       "</style>\n",
       "<table border=\"1\" class=\"dataframe\">\n",
       "  <thead>\n",
       "    <tr style=\"text-align: right;\">\n",
       "      <th></th>\n",
       "      <th>Unnamed: 0</th>\n",
       "      <th>path</th>\n",
       "      <th>artist</th>\n",
       "      <th>song</th>\n",
       "      <th>part</th>\n",
       "      <th>nokey</th>\n",
       "      <th>key_signature</th>\n",
       "      <th>estimated_key_signature</th>\n",
       "      <th>in_scale_rate</th>\n",
       "      <th>estimated_in_scale_rate</th>\n",
       "      <th>highest</th>\n",
       "      <th>lowest</th>\n",
       "      <th>bpm</th>\n",
       "      <th>time_signature</th>\n",
       "      <th>beats</th>\n",
       "      <th>bars</th>\n",
       "      <th>time</th>\n",
       "      <th>has_melody_track</th>\n",
       "      <th>has_chord_track</th>\n",
       "    </tr>\n",
       "  </thead>\n",
       "  <tbody>\n",
       "    <tr>\n",
       "      <td>0</td>\n",
       "      <td>0</td>\n",
       "      <td>q/quincy-jones-and-his-orchestra/soul-bossa-no...</td>\n",
       "      <td>quincy-jones-and-his-orchestra</td>\n",
       "      <td>soul-bossa-nova</td>\n",
       "      <td>chorus</td>\n",
       "      <td>False</td>\n",
       "      <td>Bb Major</td>\n",
       "      <td>Bb Major</td>\n",
       "      <td>0.88278</td>\n",
       "      <td>0.88278</td>\n",
       "      <td>73.0</td>\n",
       "      <td>65.0</td>\n",
       "      <td>146</td>\n",
       "      <td>4/4</td>\n",
       "      <td>48</td>\n",
       "      <td>12</td>\n",
       "      <td>19.73</td>\n",
       "      <td>True</td>\n",
       "      <td>True</td>\n",
       "    </tr>\n",
       "    <tr>\n",
       "      <td>1</td>\n",
       "      <td>1</td>\n",
       "      <td>q/quincy-jones-and-his-orchestra/soul-bossa-no...</td>\n",
       "      <td>quincy-jones-and-his-orchestra</td>\n",
       "      <td>soul-bossa-nova</td>\n",
       "      <td>chorus</td>\n",
       "      <td>True</td>\n",
       "      <td>Bb Major</td>\n",
       "      <td>C Major</td>\n",
       "      <td>0.74186</td>\n",
       "      <td>0.88278</td>\n",
       "      <td>63.0</td>\n",
       "      <td>55.0</td>\n",
       "      <td>146</td>\n",
       "      <td>4/4</td>\n",
       "      <td>48</td>\n",
       "      <td>12</td>\n",
       "      <td>19.73</td>\n",
       "      <td>True</td>\n",
       "      <td>True</td>\n",
       "    </tr>\n",
       "    <tr>\n",
       "      <td>2</td>\n",
       "      <td>2</td>\n",
       "      <td>q/queen-and-bowie/under-pressure/intro-and-ver...</td>\n",
       "      <td>queen-and-bowie</td>\n",
       "      <td>under-pressure</td>\n",
       "      <td>intro,verse</td>\n",
       "      <td>False</td>\n",
       "      <td>D Major</td>\n",
       "      <td>D Major</td>\n",
       "      <td>1.00000</td>\n",
       "      <td>1.00000</td>\n",
       "      <td>73.0</td>\n",
       "      <td>57.0</td>\n",
       "      <td>120</td>\n",
       "      <td>4/4</td>\n",
       "      <td>32</td>\n",
       "      <td>8</td>\n",
       "      <td>16.00</td>\n",
       "      <td>True</td>\n",
       "      <td>True</td>\n",
       "    </tr>\n",
       "    <tr>\n",
       "      <td>3</td>\n",
       "      <td>3</td>\n",
       "      <td>q/queen-and-bowie/under-pressure/intro-and-ver...</td>\n",
       "      <td>queen-and-bowie</td>\n",
       "      <td>under-pressure</td>\n",
       "      <td>intro,verse</td>\n",
       "      <td>True</td>\n",
       "      <td>D Major</td>\n",
       "      <td>C Major</td>\n",
       "      <td>0.74297</td>\n",
       "      <td>1.00000</td>\n",
       "      <td>71.0</td>\n",
       "      <td>55.0</td>\n",
       "      <td>120</td>\n",
       "      <td>4/4</td>\n",
       "      <td>32</td>\n",
       "      <td>8</td>\n",
       "      <td>16.00</td>\n",
       "      <td>True</td>\n",
       "      <td>True</td>\n",
       "    </tr>\n",
       "    <tr>\n",
       "      <td>4</td>\n",
       "      <td>4</td>\n",
       "      <td>q/queen-and-bowie/under-pressure/intro_nokey.mid</td>\n",
       "      <td>queen-and-bowie</td>\n",
       "      <td>under-pressure</td>\n",
       "      <td>intro</td>\n",
       "      <td>True</td>\n",
       "      <td>D Major</td>\n",
       "      <td>C Major</td>\n",
       "      <td>0.65812</td>\n",
       "      <td>1.00000</td>\n",
       "      <td>71.0</td>\n",
       "      <td>55.0</td>\n",
       "      <td>240</td>\n",
       "      <td>4/4</td>\n",
       "      <td>32</td>\n",
       "      <td>8</td>\n",
       "      <td>8.00</td>\n",
       "      <td>True</td>\n",
       "      <td>True</td>\n",
       "    </tr>\n",
       "  </tbody>\n",
       "</table>\n",
       "</div>"
      ],
      "text/plain": [
       "   Unnamed: 0                                               path  \\\n",
       "0           0  q/quincy-jones-and-his-orchestra/soul-bossa-no...   \n",
       "1           1  q/quincy-jones-and-his-orchestra/soul-bossa-no...   \n",
       "2           2  q/queen-and-bowie/under-pressure/intro-and-ver...   \n",
       "3           3  q/queen-and-bowie/under-pressure/intro-and-ver...   \n",
       "4           4   q/queen-and-bowie/under-pressure/intro_nokey.mid   \n",
       "\n",
       "                           artist             song         part  nokey  \\\n",
       "0  quincy-jones-and-his-orchestra  soul-bossa-nova       chorus  False   \n",
       "1  quincy-jones-and-his-orchestra  soul-bossa-nova       chorus   True   \n",
       "2                 queen-and-bowie   under-pressure  intro,verse  False   \n",
       "3                 queen-and-bowie   under-pressure  intro,verse   True   \n",
       "4                 queen-and-bowie   under-pressure        intro   True   \n",
       "\n",
       "  key_signature estimated_key_signature  in_scale_rate  \\\n",
       "0      Bb Major                Bb Major        0.88278   \n",
       "1      Bb Major                 C Major        0.74186   \n",
       "2       D Major                 D Major        1.00000   \n",
       "3       D Major                 C Major        0.74297   \n",
       "4       D Major                 C Major        0.65812   \n",
       "\n",
       "   estimated_in_scale_rate  highest  lowest  bpm time_signature  beats  bars  \\\n",
       "0                  0.88278     73.0    65.0  146            4/4     48    12   \n",
       "1                  0.88278     63.0    55.0  146            4/4     48    12   \n",
       "2                  1.00000     73.0    57.0  120            4/4     32     8   \n",
       "3                  1.00000     71.0    55.0  120            4/4     32     8   \n",
       "4                  1.00000     71.0    55.0  240            4/4     32     8   \n",
       "\n",
       "    time  has_melody_track  has_chord_track  \n",
       "0  19.73              True             True  \n",
       "1  19.73              True             True  \n",
       "2  16.00              True             True  \n",
       "3  16.00              True             True  \n",
       "4   8.00              True             True  "
      ]
     },
     "execution_count": 3,
     "metadata": {},
     "output_type": "execute_result"
    }
   ],
   "source": [
    "df = pd.read_csv(input_csv)\n",
    "print(df.shape)\n",
    "df.head()"
   ]
  },
  {
   "cell_type": "code",
   "execution_count": 4,
   "metadata": {},
   "outputs": [
    {
     "name": "stderr",
     "output_type": "stream",
     "text": [
      "/root/midinet-followup/.venv/lib/python3.7/site-packages/ipykernel_launcher.py:1: UserWarning: Boolean Series key will be reindexed to match DataFrame index.\n",
      "  \"\"\"Entry point for launching an IPython kernel.\n"
     ]
    },
    {
     "data": {
      "text/plain": [
       "(16386, 20)"
      ]
     },
     "execution_count": 4,
     "metadata": {},
     "output_type": "execute_result"
    }
   ],
   "source": [
    "df = df[df[\"nokey\"]][df[\"time_signature\"] == \"4/4\"][df[\"has_melody_track\"]][df[\"has_chord_track\"]]\n",
    "df = df.reset_index()\n",
    "df.shape"
   ]
  },
  {
   "cell_type": "code",
   "execution_count": 5,
   "metadata": {},
   "outputs": [
    {
     "data": {
      "image/png": "[encoded data removed]",
      "text/plain": [
       "<Figure size 1512x720 with 2 Axes>"
      ]
     },
     "metadata": {
      "needs_background": "light"
     },
     "output_type": "display_data"
    }
   ],
   "source": [
    "def get_sample():\n",
    "    midi_path = os.path.join(input_dir, df['path'][0])\n",
    "    ppr = Multitrack(midi_path)\n",
    "    return ppr\n",
    "\n",
    "grid_plot(get_sample())"
   ]
  },
  {
   "cell_type": "markdown",
   "metadata": {},
   "source": [
    "## 処理フレームワーク\n",
    "Processorを継承したクラスのインスタンスをPreprocessorへ与えてやることで前処理を行う  \n",
    "ProcessorはリストでPypianorollProcessor.processへ渡され，pypianoroll.Multitrackとdataを順番に受け取っては処理していく  \n",
    "最終的に得られたprocessed_melody(x, prev_x)とchordを合わせてnpzか何かで保存  \n",
    "それを取り出してDatasetとして扱い，DataLoaderへ渡す腹積もり"
   ]
  },
  {
   "cell_type": "code",
   "execution_count": 6,
   "metadata": {},
   "outputs": [],
   "source": [
    "class PypianorollProcessor(SequentialProcessor):\n",
    "    \"\"\"\n",
    "    pypianoroll.Multitrackとその中で選択されたTrackに対して順次処理を行う\n",
    "    \"\"\"\n",
    "    def __call__(self, ppr, tracks=None):\n",
    "        if not isinstance(ppr, Multitrack): ppr = Multitrack(ppr)\n",
    "        if tracks == None: tracks = list(range(len(ppr.tracks)))\n",
    "        if not isinstance(tracks, list): tracks = [tracks]\n",
    "        data = None\n",
    "        for t in tracks:\n",
    "            data = ppr.tracks[t]\n",
    "            for processor in self.processors:\n",
    "                ppr, data = processor(ppr, data)\n",
    "        return ppr, data\n",
    "\n",
    "\n",
    "def theorytab_preprocess(ppr, melody_processors=[], chord_processors=[]):\n",
    "    \"\"\"\n",
    "    theorytabデータセットのデータに対し，メロディとコードへ指定の処理を行った結果を返す\n",
    "    \"\"\"\n",
    "    ppr, processed_melody = PypianorollProcessor(melody_processors)(ppr, 0)\n",
    "    ppr, processed_chord = PypianorollProcessor(chord_processors)(ppr, 1)\n",
    "    return processed_melody, processed_chord"
   ]
  },
  {
   "cell_type": "code",
   "execution_count": 7,
   "metadata": {},
   "outputs": [
    {
     "name": "stdout",
     "output_type": "stream",
     "text": [
      "0.006304\n",
      "test process 1\n",
      "test process 2\n",
      "test process 3\n",
      "0.000076\n"
     ]
    }
   ],
   "source": [
    "class TestProcessor(Processor):\n",
    "    def __init__(self, number):\n",
    "        self.number = number\n",
    "\n",
    "    def __call__(self, ppr, data):\n",
    "        print(f\"test process {self.number}\")\n",
    "        return ppr, data\n",
    "\n",
    "with Timer():\n",
    "    ppr = get_sample()\n",
    "\n",
    "with Timer():    \n",
    "    melody, chord = theorytab_preprocess(ppr, TestProcessor(1), [TestProcessor(2), TestProcessor(3)])"
   ]
  },
  {
   "cell_type": "markdown",
   "metadata": {},
   "source": [
    "MIDIデータの読み込みに1/100secくらいかかるんだなぁ  \n",
    "読込みだけで4分くらいかかるんだなぁ  \n",
    "並列処理すればその限りではないけどなぁ"
   ]
  },
  {
   "cell_type": "markdown",
   "metadata": {},
   "source": [
    "## 共通の前処理\n",
    "- ベロシティは無視し，2値化する\n",
    "- 最小ステップを16分音符にする\n",
    "    - メロディのdown_resolutionするときの最初のステップにある音をそのステップの音とする\n",
    "    - i.e. resolution: 24 -> 4なら，24 / 4 = 6ステップごとにある音をそのステップの音とする\n",
    "    - 3連符や32分音符を取り除く\n",
    "        - down_resolutionの過程で消える．(removeしていることにはなる．)\n",
    "        - 3連符はつながっていればドレミ→ドドレミとなる\n",
    "- メロディに音符のない小節は使用しない\n",
    "- コードは，最初の12個を主音，最後をメジャーかマイナーの区別に使う．\n",
    "    - 小節の最初のステップの和音を使い，1小節に1つのコードを割り当てる．\n",
    "        - 分数コードや転回はないと踏む\n",
    "        - コードトラックの小節の先頭で一番低い音をルートとする．\n",
    "        - メジャーかマイナーかは次に低い音との距離で決定する．\n",
    "- x:(bars, 16, 128), prev_x: (bars, 16, 128), chord: (bars, 13)のデータを得る\n",
    "- 12個分のキーシフトを行うことでデータの水増しを行う\n",
    "    - 上に11シフト"
   ]
  },
  {
   "cell_type": "markdown",
   "metadata": {},
   "source": [
    "### ベロシティは無視し，2値化する"
   ]
  },
  {
   "cell_type": "code",
   "execution_count": 8,
   "metadata": {},
   "outputs": [],
   "source": [
    "class Binalize(Processor):\n",
    "    def __call__(self, ppr, track):\n",
    "        ppr.binarize()\n",
    "        track.binarize()\n",
    "        return ppr, track"
   ]
  },
  {
   "cell_type": "code",
   "execution_count": 9,
   "metadata": {},
   "outputs": [
    {
     "name": "stdout",
     "output_type": "stream",
     "text": [
      "0.000100\n",
      "True True\n"
     ]
    }
   ],
   "source": [
    "ppr = get_sample()\n",
    "binalize = Binalize()\n",
    "\n",
    "with Timer():\n",
    "    ppr, track = binalize(ppr, ppr.tracks[0])\n",
    "print(ppr.is_binarized(), track.is_binarized())"
   ]
  },
  {
   "cell_type": "markdown",
   "metadata": {},
   "source": [
    "### resolutionを下げる"
   ]
  },
  {
   "cell_type": "code",
   "execution_count": 10,
   "metadata": {},
   "outputs": [],
   "source": [
    "class DownBeatResolution(Processor):\n",
    "    \"\"\"\n",
    "    全てのトラックのresolutionを下げるので注意\n",
    "    \"\"\"\n",
    "    def __init__(self, resolution_to, resolution_from=None):\n",
    "        self.res_to = resolution_to\n",
    "        self.res_from = resolution_from\n",
    "        \n",
    "        if self.res_from is not None and self.res_to >= self.res_from:\n",
    "            raise ValueError(f\"Resolution_to (given: {self.res_to}) must be smaller than resolution_from (given: {self.res_from}).\")\n",
    "        \n",
    "    def __call__(self, ppr, track):\n",
    "        if self.res_from is None:\n",
    "            if self.res_to >= ppr.beat_resolution:\n",
    "                raise ValueError(f\"Target resolution ({self.res_to}) must be smaller than the original resolution ({ppr.beat_resolution})\")\n",
    "            step_width = ppr.beat_resolution // self.res_to\n",
    "        else:\n",
    "            step_width = self.res_from // self.res_to\n",
    "            \n",
    "        ppr.beat_resolution = self.res_to\n",
    "        ppr.downbeat = ppr.downbeat[::step_width]\n",
    "        \n",
    "        track_is_in_ppr = False\n",
    "        for ppr_track in ppr.tracks:\n",
    "            if ppr_track is track: track_is_in_ppr = True # isは参照の等価チェック\n",
    "            ppr_track.pianoroll = ppr_track.pianoroll[::step_width]\n",
    "        \n",
    "        if not track_is_in_ppr:\n",
    "            track.pianoroll = track.pianoroll[::step_width]\n",
    "        \n",
    "        return ppr, track"
   ]
  },
  {
   "cell_type": "code",
   "execution_count": 11,
   "metadata": {},
   "outputs": [
    {
     "name": "stdout",
     "output_type": "stream",
     "text": [
      "before -> resolution: 24, active length: 1151\n",
      "0.000008\n",
      "after: -> resolution: 4, active length: 192\n"
     ]
    },
    {
     "data": {
      "image/png": "[encoded data removed]",
      "text/plain": [
       "<Figure size 1512x720 with 2 Axes>"
      ]
     },
     "metadata": {
      "needs_background": "light"
     },
     "output_type": "display_data"
    }
   ],
   "source": [
    "ppr = get_sample()\n",
    "down_resolution = DownBeatResolution(4)\n",
    "\n",
    "print(f\"before -> resolution: {ppr.beat_resolution}, active length: {ppr.get_active_length()}\")\n",
    "with Timer():\n",
    "    ppr, track = down_resolution(ppr, ppr.tracks[0])\n",
    "print(f\"after: -> resolution: {ppr.beat_resolution}, active length: {ppr.get_active_length()}\")\n",
    "grid_plot(ppr)"
   ]
  },
  {
   "cell_type": "markdown",
   "metadata": {},
   "source": [
    "### メロディに音符のない小節は使用しない"
   ]
  },
  {
   "cell_type": "code",
   "execution_count": 12,
   "metadata": {},
   "outputs": [],
   "source": [
    "class RemoveEmptyBars(Processor):\n",
    "    def __init__(self, beats_in_bar=4):\n",
    "        self.beats_in_bar = beats_in_bar\n",
    "    \n",
    "    def __call__(self, ppr, track):\n",
    "        res = ppr.beat_resolution\n",
    "        bar_res = self.beats_in_bar * res\n",
    "        bars = int(np.ceil(len(ppr.downbeat) / bar_res))\n",
    "        \n",
    "        empty_steps = []\n",
    "        for b in range(bars):\n",
    "            if not track.pianoroll[b*bar_res:(b+1)*bar_res].any():\n",
    "                empty_steps += list(range(b*bar_res, (b+1)*bar_res))\n",
    "        \n",
    "        ppr.downbeat = np.delete(ppr.downbeat, empty_steps)\n",
    "        \n",
    "        track_is_in_ppr = False\n",
    "        for ppr_track in ppr.tracks:\n",
    "            if ppr_track is track: track_is_in_ppr = True\n",
    "            ppr_track.pianoroll = np.delete(ppr_track.pianoroll, empty_steps, axis=0)\n",
    "\n",
    "        if not track_is_in_ppr:\n",
    "            track.pianoroll = np.delete(track.pianoroll, empty_steps, axis=0)\n",
    "                    \n",
    "        return ppr, track"
   ]
  },
  {
   "cell_type": "code",
   "execution_count": 13,
   "metadata": {},
   "outputs": [
    {
     "name": "stdout",
     "output_type": "stream",
     "text": [
      "before -> active length: 1151\n",
      "0.001067\n",
      "after: -> active length: 1055\n"
     ]
    },
    {
     "data": {
      "image/png": "[encoded data removed]",
      "text/plain": [
       "<Figure size 1512x720 with 2 Axes>"
      ]
     },
     "metadata": {
      "needs_background": "light"
     },
     "output_type": "display_data"
    }
   ],
   "source": [
    "ppr = get_sample()\n",
    "remove_empty_bars = RemoveEmptyBars()\n",
    "\n",
    "print(f\"before -> active length: {ppr.get_active_length()}\")\n",
    "with Timer():\n",
    "    ppr, track = remove_empty_bars(ppr, ppr.tracks[0])\n",
    "print(f\"after: -> active length: {ppr.get_active_length()}\")\n",
    "grid_plot(ppr)"
   ]
  },
  {
   "cell_type": "markdown",
   "metadata": {},
   "source": [
    "### コードベクトルの取得"
   ]
  },
  {
   "cell_type": "code",
   "execution_count": 14,
   "metadata": {},
   "outputs": [],
   "source": [
    "class GetChordVectors(Processor):\n",
    "    def __init__(self, minor=0, major=1, beats_in_bar=4):\n",
    "        self.beats_in_bar = beats_in_bar\n",
    "    \n",
    "    def __call__(self, ppr, track):\n",
    "        beat_res = ppr.beat_resolution\n",
    "        bar_res = beat_res * self.beats_in_bar\n",
    "        pianoroll = track.pianoroll\n",
    "        \n",
    "        chord_vecs = []\n",
    "        for head in range(0, pianoroll.shape[0], bar_res):\n",
    "            chord = np.where(pianoroll[head])[0]\n",
    "            \n",
    "            chord_vec = np.zeros(13)\n",
    "            if len(chord) > 1:\n",
    "                chord_vec[chord[0] % 12] = 1\n",
    "                chord_vec[-1] = 0 if chord[1] - chord[0] == 3 else 1\n",
    "            \n",
    "            chord_vecs.append(chord_vec)\n",
    "        \n",
    "        return ppr, np.array(chord_vecs)"
   ]
  },
  {
   "cell_type": "code",
   "execution_count": 15,
   "metadata": {},
   "outputs": [
    {
     "name": "stdout",
     "output_type": "stream",
     "text": [
      "0.000086\n",
      "(12, 13)\n",
      "[1. 0. 0. 0. 0. 0. 0. 0. 0. 0. 0. 0. 1.]\n",
      "[1. 0. 0. 0. 0. 0. 0. 0. 0. 0. 0. 0. 1.]\n",
      "[1. 0. 0. 0. 0. 0. 0. 0. 0. 0. 0. 0. 1.]\n",
      "[1. 0. 0. 0. 0. 0. 0. 0. 0. 0. 0. 0. 1.]\n",
      "[0. 0. 0. 0. 0. 1. 0. 0. 0. 0. 0. 0. 1.]\n",
      "[0. 0. 0. 0. 0. 1. 0. 0. 0. 0. 0. 0. 1.]\n",
      "[1. 0. 0. 0. 0. 0. 0. 0. 0. 0. 0. 0. 1.]\n",
      "[0. 0. 0. 0. 0. 0. 0. 0. 0. 1. 0. 0. 1.]\n",
      "[0. 0. 1. 0. 0. 0. 0. 0. 0. 0. 0. 0. 1.]\n",
      "[0. 0. 0. 0. 0. 0. 0. 1. 0. 0. 0. 0. 1.]\n",
      "[1. 0. 0. 0. 0. 0. 0. 0. 0. 0. 0. 0. 1.]\n",
      "[1. 0. 0. 0. 0. 0. 0. 0. 0. 0. 0. 0. 1.]\n"
     ]
    }
   ],
   "source": [
    "ppr = get_sample()\n",
    "get_chord_vectors = GetChordVectors()\n",
    "\n",
    "with Timer():\n",
    "    ppr, chord_vecs = get_chord_vectors(ppr, ppr.tracks[1])\n",
    "print(chord_vecs.shape)\n",
    "for cv in chord_vecs:\n",
    "    print(cv)"
   ]
  },
  {
   "cell_type": "markdown",
   "metadata": {},
   "source": [
    "### メロディを小節ごとに分割"
   ]
  },
  {
   "cell_type": "code",
   "execution_count": 16,
   "metadata": {},
   "outputs": [],
   "source": [
    "class GetBars(Processor):\n",
    "    def __init__(self, beats_in_bar=4):\n",
    "        self.beats_in_bar = beats_in_bar\n",
    "    \n",
    "    def __call__(self, ppr, track):\n",
    "        beat_res = ppr.beat_resolution\n",
    "        bar_res = beat_res * self.beats_in_bar\n",
    "        pianoroll = track.pianoroll\n",
    "        \n",
    "        bars = []\n",
    "        for head in range(0, pianoroll.shape[0], bar_res):\n",
    "            bars.append(pianoroll[head:head+bar_res])\n",
    "        \n",
    "        return ppr, np.array(bars)"
   ]
  },
  {
   "cell_type": "code",
   "execution_count": 17,
   "metadata": {},
   "outputs": [
    {
     "name": "stdout",
     "output_type": "stream",
     "text": [
      "bar resolution: 96\n",
      "0.000725\n",
      "(12, 96, 128)\n"
     ]
    },
    {
     "data": {
      "image/png": "[encoded data removed]",
      "text/plain": [
       "<Figure size 1512x720 with 1 Axes>"
      ]
     },
     "metadata": {
      "needs_background": "light"
     },
     "output_type": "display_data"
    }
   ],
   "source": [
    "ppr = get_sample()\n",
    "get_bars = GetBars()\n",
    "\n",
    "print(\"bar resolution:\", ppr.beat_resolution * 4)\n",
    "with Timer():\n",
    "    ppr, bars = get_bars(ppr, ppr.tracks[0])\n",
    "print(bars.shape)\n",
    "grid_plot(Track(pianoroll=bars[0]), beat_resolution=ppr.beat_resolution)"
   ]
  },
  {
   "cell_type": "code",
   "execution_count": 174,
   "metadata": {},
   "outputs": [
    {
     "name": "stdout",
     "output_type": "stream",
     "text": [
      "0.010147\n",
      "(10, 16, 128)\n"
     ]
    }
   ],
   "source": [
    "a = np.ones([10, 16, 128]) # bars, steps, pitches\n",
    "result = a.tolist()\n",
    "with Timer():\n",
    "    s0, s1, s2 = a.shape\n",
    "    a = a.T.tolist()\n",
    "    empty = np.zeros([1,s1,s0]).tolist()\n",
    "    for i in range(s2 - 1):\n",
    "        a.pop(-1)\n",
    "        a = empty + a\n",
    "    a = np.array(a).T\n",
    "\n",
    "# print(a)\n",
    "print(a.shape)"
   ]
  },
  {
   "cell_type": "markdown",
   "metadata": {},
   "source": [
    "### キーシフトによるデータの水増し\n",
    "- bars (bars, 16, 128) -> np.array(bars * 12, 16, 128)\n",
    "- Track.pianoroll (length, 128) -> np.array(length * 12, 128)\n",
    "\n",
    "1曲分の長さはpprから取得してもらうことにする"
   ]
  },
  {
   "cell_type": "code",
   "execution_count": 172,
   "metadata": {},
   "outputs": [],
   "source": [
    "class AugumentMelody(Processor):\n",
    "    def __init__(self, shifts=11, up=True):\n",
    "        self.shifts = shifts\n",
    "        self.up = up\n",
    "    \n",
    "    def __call__(self, ppr, bars):\n",
    "        if isinstance(bars, Track): bars = bars.pianoroll\n",
    "        \n",
    "        augumented_bars = []\n",
    "        if bars.ndim == 3:\n",
    "            s0, s1, s2 = bars.shape\n",
    "            bars = bars.T.tolist()\n",
    "            augumented_bars += bars\n",
    "            new_line = np.zeros([1,s1,s0]).tolist()\n",
    "            for i in range(self.shifts):\n",
    "                bars.pop(-1 if self.up else 0)\n",
    "                bars = new_line + bars\n",
    "                augumented_bars += bars\n",
    "        elif bars.ndim == 2:\n",
    "            pass\n",
    "        else:\n",
    "            raise ValueError(\"The bars to be augumented must have dimensions 2 or 3.\")\n",
    "        \n",
    "        augumented_bars = np.array(augumented_bars).T\n",
    "        return ppr, augumented_bars"
   ]
  },
  {
   "cell_type": "code",
   "execution_count": 173,
   "metadata": {},
   "outputs": [
    {
     "name": "stdout",
     "output_type": "stream",
     "text": [
      "input shape: (12, 96, 128)\n",
      "0.291263\n",
      "(12, 96, 1536)\n"
     ]
    }
   ],
   "source": [
    "ppr = get_sample()\n",
    "augument = AugumentMelody()\n",
    "\n",
    "ppr, bars = get_bars(ppr, ppr.tracks[0])\n",
    "print(\"input shape:\", bars.shape)\n",
    "with Timer():\n",
    "    ppr, bars = augument(ppr, bars)\n",
    "print(bars.shape)\n",
    "grid_plot(Track(pianoroll=bars[0]), beat_resolution=ppr.beat_resolution)"
   ]
  },
  {
   "cell_type": "markdown",
   "metadata": {},
   "source": [
    "### 前小節データを得る\n",
    "水増ししたものに対応する．  \n",
    "「シフト→前小節」のほうが「前小節→シフト」よりもコストが少ない．  \n",
    "前小節を取得するのは配列範囲の選択でいいが，二倍になった小節をシフトするのはコストがかかる"
   ]
  },
  {
   "cell_type": "code",
   "execution_count": null,
   "metadata": {},
   "outputs": [],
   "source": [
    "# なんか分岐装置的な奴\n",
    "def get_prev_x"
   ]
  },
  {
   "cell_type": "markdown",
   "metadata": {},
   "source": [
    "### 基本処理計測"
   ]
  },
  {
   "cell_type": "code",
   "execution_count": 137,
   "metadata": {},
   "outputs": [
    {
     "name": "stdout",
     "output_type": "stream",
     "text": [
      "0.000082\n",
      "0.000013\n",
      "0.001126\n",
      "0.000070\n",
      "0.000146\n"
     ]
    },
    {
     "data": {
      "image/png": "[encoded data removed]",
      "text/plain": [
       "<Figure size 1512x720 with 2 Axes>"
      ]
     },
     "metadata": {
      "needs_background": "light"
     },
     "output_type": "display_data"
    }
   ],
   "source": [
    "ppr = get_sample()\n",
    "track = ppr.tracks[0]\n",
    "\n",
    "for p in [binalize, down_resolution, remove_empty_bars, get_bars]:\n",
    "    with Timer():\n",
    "        ppr, track = p(ppr, track)\n",
    "\n",
    "with Timer():\n",
    "    ppr, chord_vecs = get_chord_vector(ppr, ppr.tracks[1])\n",
    "\n",
    "grid_plot(ppr)"
   ]
  },
  {
   "cell_type": "markdown",
   "metadata": {},
   "source": [
    "## original\n",
    "- トライアドコード以外のコードを含む楽譜を取り除く\n",
    "- 休符が後ろについている場合は音符の長さをその分伸ばす\n",
    "- 小節の頭が休符の場合は2番目の音符を前に伸ばす\n",
    "- メロディをC4～C5(C6?)までの2オクターブの中にシフト(でも128音使う．これによりモード崩壊しているかを判定できるらしい)"
   ]
  }
 ],
 "metadata": {
  "kernelspec": {
   "display_name": "Python 3",
   "language": "python",
   "name": "python3"
  },
  "language_info": {
   "codemirror_mode": {
    "name": "ipython",
    "version": 3
   },
   "file_extension": ".py",
   "mimetype": "text/x-python",
   "name": "python",
   "nbconvert_exporter": "python",
   "pygments_lexer": "ipython3",
   "version": "3.7.3"
  }
 },
 "nbformat": 4,
 "nbformat_minor": 4
}
