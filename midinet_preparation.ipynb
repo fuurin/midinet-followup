{
 "cells": [
  {
   "cell_type": "markdown",
   "metadata": {},
   "source": [
    "# MidiNet用データの作成，前処理"
   ]
  },
  {
   "cell_type": "markdown",
   "metadata": {},
   "source": [
    "用意するデータ\n",
    "- bar (N, steps, pitch_range)\n",
    "- bar_prev (N, steps, pitch_range)\n",
    "- chord (N, 13) (0~12は主音，13は0: major, 1: minor)"
   ]
  },
  {
   "cell_type": "markdown",
   "metadata": {},
   "source": [
    "chordはXMLデータとかないの？"
   ]
  },
  {
   "cell_type": "markdown",
   "metadata": {},
   "source": [
    "処理の方針"
   ]
  }
 ],
 "metadata": {
  "kernelspec": {
   "display_name": "Python 3",
   "language": "python",
   "name": "python3"
  },
  "language_info": {
   "codemirror_mode": {
    "name": "ipython",
    "version": 3
   },
   "file_extension": ".py",
   "mimetype": "text/x-python",
   "name": "python",
   "nbconvert_exporter": "python",
   "pygments_lexer": "ipython3",
   "version": "3.7.3"
  }
 },
 "nbformat": 4,
 "nbformat_minor": 4
}
