{
 "cells": [
  {
   "cell_type": "markdown",
   "metadata": {},
   "source": [
    "# midinet_noprevモデルの学習\n",
    "nochordからさらに前小節の条件をなくしてみる．  \n",
    "ここまでくるともはやただのDCGANである  \n",
    "するとさすがにいい結果が出なくなったので，コード条件だけ追加してみる"
   ]
  },
  {
   "cell_type": "code",
   "execution_count": 1,
   "metadata": {},
   "outputs": [],
   "source": [
    "import os, time, glob, ipdb, pickle, numpy as np\n",
    "visible_devices = [2]\n",
    "os.environ['CUDA_VISIBLE_DEVICES'] = ','.join([str(i) for i in visible_devices])\n",
    "\n",
    "import torch, torch.nn as nn\n",
    "import torch.optim as optim\n",
    "import torchvision.utils as vutils\n",
    "import torch.nn.functional as F\n",
    "from torch.nn.functional import relu, leaky_relu\n",
    "from torch.utils.data import DataLoader\n",
    "from multi_gpu import MultiGPUWrapper\n",
    "from PIL import Image\n",
    "from utils import Timer, get_model, count_params\n",
    "from IPython.display import clear_output\n",
    "\n",
    "import matplotlib.pyplot as plt\n",
    "%matplotlib inline"
   ]
  },
  {
   "cell_type": "code",
   "execution_count": 2,
   "metadata": {},
   "outputs": [],
   "source": [
    "base_dir = \"../datasets/theorytab/midinet\"\n",
    "input_data_path = os.path.join(base_dir, \"midinetw.pkl\")\n",
    "output_dir = f\"{base_dir}/learning\"\n",
    "\n",
    "if not os.path.isdir(output_dir):\n",
    "    os.mkdir(output_dir)"
   ]
  },
  {
   "cell_type": "markdown",
   "metadata": {},
   "source": [
    "## DataLoaderの作成"
   ]
  },
  {
   "cell_type": "code",
   "execution_count": 3,
   "metadata": {},
   "outputs": [],
   "source": [
    "class MidinetDataset():\n",
    "    def __init__(self, data_path, pitch_range=[0, 64], show_shape=False):\n",
    "        data = pickle.load(open(data_path,'rb'))\n",
    "        \n",
    "        melody, prev, chord = [], [], []\n",
    "        for m, p, c in data:\n",
    "            melody.append(m)\n",
    "            prev.append(p)\n",
    "            chord.append(c)\n",
    "        \n",
    "        self.size = len(melody)\n",
    "        steps = len(melody[0])\n",
    "        bottom, top = pitch_range\n",
    "        \n",
    "        melody = np.array(melody)[:,:,bottom:top].reshape(self.size, 1, steps, top-bottom)\n",
    "        prev = np.array(prev)[:,:,bottom:top].reshape(self.size, 1, steps, top-bottom)\n",
    "        chord = np.array(chord)\n",
    "        \n",
    "        if show_shape:\n",
    "            print(\"melody shape\", melody.shape)\n",
    "            print(\"prev shape\", prev.shape)\n",
    "            print(\"condition shape\", chord.shape)\n",
    "        \n",
    "        self.x = torch.from_numpy(melody).float()\n",
    "        self.prev_x   = torch.from_numpy(prev).float()\n",
    "        self.y  = torch.from_numpy(chord).float()\n",
    "\n",
    "    def __getitem__(self, index):\n",
    "        return self.x[index], self.prev_x[index], self.y[index]\n",
    "\n",
    "    def __len__(self):\n",
    "        return self.size"
   ]
  },
  {
   "cell_type": "code",
   "execution_count": 4,
   "metadata": {},
   "outputs": [],
   "source": [
    "def get_dataloader(data_path, batch_size=72, shuffle=True):\n",
    "    dataset = MidinetDataset(data_path)\n",
    "    dataloader = DataLoader(dataset, batch_size=batch_size, shuffle=shuffle)\n",
    "    print('Data loading is completed.')\n",
    "    print(f'{len(dataloader)} batches from {len(dataset)} bars are obtained.')\n",
    "    return dataloader"
   ]
  },
  {
   "cell_type": "markdown",
   "metadata": {},
   "source": [
    "動作確認用のDataLoader"
   ]
  },
  {
   "cell_type": "code",
   "execution_count": 5,
   "metadata": {},
   "outputs": [
    {
     "name": "stdout",
     "output_type": "stream",
     "text": [
      "Data loading is completed.\n",
      "42964 batches from 85927 bars are obtained.\n",
      "Timer: 1.515962\n"
     ]
    }
   ],
   "source": [
    "with Timer():\n",
    "    dataloader = get_dataloader(input_data_path, batch_size=2)"
   ]
  },
  {
   "cell_type": "markdown",
   "metadata": {},
   "source": [
    "## Modelの作成"
   ]
  },
  {
   "cell_type": "markdown",
   "metadata": {},
   "source": [
    "model用共通関数の作成"
   ]
  },
  {
   "cell_type": "code",
   "execution_count": 6,
   "metadata": {},
   "outputs": [],
   "source": [
    "def concat_vector(x, y):\n",
    "    x_0, _, x_2, x_3 = x.shape               # 72, 1, 48, 64\n",
    "    y2 = y.expand(x_0, y.shape[1], x_2, x_3) # 72, 48, 1, 1 -> 72, 48, 48, 64\n",
    "    return torch.cat((x, y2),1)             # 72, 49, 48, 64\n",
    "    \n",
    "def batch_norm(x, eps=1e-05, momentum=0.9, affine=False):\n",
    "    device = x.device\n",
    "    if x.ndim == 2 or x.ndim == 3:\n",
    "        norm = nn.BatchNorm1d(x.shape[1], eps=eps, momentum=momentum, affine=affine).to(device)\n",
    "        return norm(x)\n",
    "    elif x.ndim == 4:\n",
    "        norm = nn.BatchNorm2d(x.shape[1], eps=eps, momentum=momentum, affine=affine).to(device)\n",
    "        return norm(x)\n",
    "    else:\n",
    "        return x\n",
    "\n",
    "def lrelu(x, slope=0.2):\n",
    "    return leaky_relu(x, negative_slope=slope)"
   ]
  },
  {
   "cell_type": "markdown",
   "metadata": {},
   "source": [
    "### Generator\n",
    "\n",
    "prev_xを使わないようにする  \n",
    "\n",
    "forwardの入力\n",
    "- z (batch, noise_size) = (72, 100): ランダムノイズ\n",
    "- y (batch, 48): コード条件\n",
    "\n",
    "forwardの出力\n",
    "- g_x (batch, ch, steps, pitch)= (72, 1, 48, 64): 生成された今の小節\n",
    "\n",
    "ストライドが縦に2だったのは結果的にも速度的にもやっぱり関係なかったみたいなので1に直した"
   ]
  },
  {
   "cell_type": "code",
   "execution_count": 7,
   "metadata": {
    "jupyter": {
     "source_hidden": true
    }
   },
   "outputs": [],
   "source": [
    "class Generator(nn.Module):\n",
    "    def __init__(self, z_dim=100, pitch_range=64):\n",
    "        super(Generator, self).__init__()\n",
    "        self.z_dim   = z_dim\n",
    "        self.y_dim   = 48\n",
    "        \n",
    "        self.prev_ch = 0\n",
    "        self.gf_dim  = 128\n",
    "        self.gfc_dim = 1024\n",
    "\n",
    "        self.h1      = nn.ConvTranspose2d(in_channels=self.gf_dim+self.y_dim+self.prev_ch, out_channels=pitch_range, kernel_size=(2,1), stride=(2,1))\n",
    "        self.h2      = nn.ConvTranspose2d(in_channels=pitch_range+self.y_dim+self.prev_ch, out_channels=pitch_range, kernel_size=(3,1), stride=(3,1))\n",
    "        self.h3      = nn.ConvTranspose2d(in_channels=pitch_range+self.y_dim+self.prev_ch, out_channels=pitch_range, kernel_size=(2,1), stride=(2,1))\n",
    "        self.h4      = nn.ConvTranspose2d(in_channels=pitch_range+self.y_dim+self.prev_ch, out_channels=pitch_range, kernel_size=(2,1), stride=(2,1))\n",
    "        self.h5      = nn.ConvTranspose2d(in_channels=pitch_range+self.y_dim+self.prev_ch, out_channels=1, kernel_size=(1,pitch_range), stride=(1,1))\n",
    "\n",
    "        self.linear1 = nn.Linear(self.z_dim + self.y_dim, self.gfc_dim)\n",
    "        self.linear2 = nn.Linear(self.gfc_dim + self.y_dim, self.gf_dim*2*1)\n",
    "\n",
    "    def forward(self, z, y):\n",
    "        \n",
    "        batch_size = len(z)\n",
    "        \n",
    "        yb = y.view(batch_size, self.y_dim, 1, 1)           # 72, 54, 1, 1\n",
    "\n",
    "        z = torch.cat((z,y),1)                              # 72, 154\n",
    "\n",
    "        h0 = F.relu(batch_norm(self.linear1(z)))            # 72, 1024\n",
    "        h0 = torch.cat((h0,y),1)                            # 72, 1078\n",
    "\n",
    "        h1 = F.relu(batch_norm(self.linear2(h0)))           # 72, 256\n",
    "        h1 = h1.view(batch_size, self.gf_dim, 2, 1)         # 72, 128, 2, 1\n",
    "        \n",
    "        h1 = concat_vector(h1, yb)                          # 72, 182, 2, 1\n",
    "\n",
    "        h2 = F.relu(batch_norm(self.h1(h1)))                # 72,  64, 4, 1 逆畳み込み． チャンネル数は固定で，3次元目が拡大される\n",
    "        h2 = concat_vector(h2, yb)                          # 72, 118, 4, 1\n",
    "\n",
    "        h3 = F.relu(batch_norm(self.h2(h2)))                # 72,  64, 12, 1 \n",
    "        h3 = concat_vector(h3, yb)                          # 72, 118, 12, 1\n",
    "\n",
    "        h4 = F.relu(batch_norm(self.h3(h3)))                # 72,  64, 24, 1\n",
    "        h4 = concat_vector(h4, yb)                          # 72, 118, 24, 1\n",
    "        \n",
    "        h5 = F.relu(batch_norm(self.h4(h4)))                # 72,  64, 48, 1\n",
    "        h5 = concat_vector(h5, yb)                          # 72, 118, 48, 1\n",
    "\n",
    "        g_x = torch.sigmoid(self.h5(h5))                    # 72, 1, 48, 64  ピッチ方向の逆畳み込み\n",
    "\n",
    "        return g_x"
   ]
  },
  {
   "cell_type": "markdown",
   "metadata": {},
   "source": [
    "動作確認"
   ]
  },
  {
   "cell_type": "code",
   "execution_count": 16,
   "metadata": {
    "deletable": false,
    "editable": false,
    "run_control": {
     "frozen": true
    }
   },
   "outputs": [
    {
     "name": "stdout",
     "output_type": "stream",
     "text": [
      "parameters: 507393\n",
      "real shape: torch.Size([2, 1, 48, 64])\n",
      "fake shape: torch.Size([2, 1, 48, 64])\n"
     ]
    }
   ],
   "source": [
    "G = Generator()\n",
    "print(\"parameters:\", count_params(G))\n",
    "\n",
    "x, _, y = next(iter(dataloader))\n",
    "z = torch.randn(2, G.z_dim)\n",
    "g_out = G(z, y)\n",
    "print(\"real shape:\", x.shape)\n",
    "print(\"fake shape:\", g_out.shape)"
   ]
  },
  {
   "cell_type": "markdown",
   "metadata": {},
   "source": [
    "### Discriminator\n",
    "prevを使わないことにするが，元々使ってなかったのでそのまま  \n",
    "forwardの入力\n",
    "- x (batch, 1, steps, pitch) = (72, 1, 48, 64): real/fake判定を行う小節データ\n",
    "- y (batch, 48): コード\n",
    "\n",
    "forwardの出力\n",
    "- h4_sigmoid (batch, 1) = (72, 1): 0~1に押し込められたreal/fake判定結果．0はfake, 1はreal\n",
    "- h4 (batch, 1) = (72, 1): 0~1に押し込められていないreal/fake判定結果"
   ]
  },
  {
   "cell_type": "code",
   "execution_count": 8,
   "metadata": {
    "jupyter": {
     "source_hidden": true
    }
   },
   "outputs": [],
   "source": [
    "class Discriminator(nn.Module):\n",
    "    def __init__(self, pitch_range=64):\n",
    "        super(Discriminator, self).__init__()\n",
    "        self.y_dim = 0\n",
    "\n",
    "        self.df_dim = 64\n",
    "        self.dfc_dim = 1024\n",
    "        \n",
    "        self.h0_prev = nn.Conv2d(\n",
    "            in_channels=self.y_dim + 1, \n",
    "            out_channels=self.y_dim + 1, \n",
    "            kernel_size=(2,pitch_range), \n",
    "            stride=(2,2)\n",
    "        )\n",
    "        \n",
    "        self.h1_prev = nn.Conv2d(\n",
    "            in_channels=self.y_dim * 2 + 1, \n",
    "            out_channels=self.y_dim * 2 + 1, \n",
    "            kernel_size=(3,1), \n",
    "            stride=(3,2)\n",
    "        )\n",
    "        \n",
    "        self.h2_prev = nn.Conv2d(\n",
    "            in_channels=self.y_dim * 3 + 1,\n",
    "            out_channels=self.df_dim + self.y_dim, \n",
    "            kernel_size=(4,1), \n",
    "            stride=(2,2)\n",
    "        )\n",
    "        \n",
    "        self.linear1 = nn.Linear((self.df_dim + self.y_dim) * 3 + self.y_dim, self.dfc_dim)\n",
    "        self.linear2 = nn.Linear(self.dfc_dim + self.y_dim, 1)\n",
    "\n",
    "    def forward(self, x, y):\n",
    "\n",
    "        batch_size = len(x)\n",
    "        \n",
    "        h0 = lrelu(self.h0_prev(x))                 # 72,  55, 24, 1\n",
    "        \n",
    "        h1 = lrelu(self.h1_prev(h0))                # 72, 109, 8, 1\n",
    "        \n",
    "        h2 = lrelu(batch_norm(self.h2_prev(h1)))    # 72, 118, 3, 1 8マス上で4マスのストライド2は3になる\n",
    "        h2 = h2.view(batch_size, -1)                # 72, 354\n",
    "        \n",
    "        h3 = lrelu(batch_norm(self.linear1(h2)))    # 72, 1024\n",
    "        \n",
    "        h4 = self.linear2(h3)                       # 72, 1\n",
    "        h4_sigmoid = torch.sigmoid(h4)              # 72, 1\n",
    "\n",
    "        return h4_sigmoid, h4"
   ]
  },
  {
   "cell_type": "markdown",
   "metadata": {},
   "source": [
    "動作確認"
   ]
  },
  {
   "cell_type": "code",
   "execution_count": 9,
   "metadata": {
    "deletable": false,
    "editable": false,
    "run_control": {
     "frozen": true
    }
   },
   "outputs": [
    {
     "name": "stdout",
     "output_type": "stream",
     "text": [
      "parameters: 199110\n",
      "d out sig shape: torch.Size([2, 1])\n",
      "d out shape: torch.Size([2, 1])\n"
     ]
    }
   ],
   "source": [
    "D = Discriminator()\n",
    "print(\"parameters:\", count_params(D))\n",
    "\n",
    "x, _, y = next(iter(dataloader))\n",
    "d_out_sig, d_out = D(x, y)\n",
    "print(\"d out sig shape:\", d_out_sig.shape)\n",
    "print(\"d out shape:\", d_out.shape)"
   ]
  },
  {
   "cell_type": "markdown",
   "metadata": {},
   "source": [
    "### 保存用関数"
   ]
  },
  {
   "cell_type": "code",
   "execution_count": 10,
   "metadata": {},
   "outputs": [],
   "source": [
    "def save_sample(G, sample_noise, chord, epoch, directory):\n",
    "    sample_size = len(sample_noise)\n",
    "    sample_fake = G(sample_noise, chord[:sample_size]).detach()\n",
    "    _, _, steps, pitch_range = sample_fake.shape\n",
    "    sample_fake = sample_fake.reshape(sample_size*steps, pitch_range).T\n",
    "    fake_image_path = os.path.join(directory, f'fake_samples_epoch{epoch:03}.png')\n",
    "    vutils.save_image(sample_fake, fake_image_path, normalize=True)\n",
    "    print(f\"{fake_image_path} saved.\")\n",
    "\n",
    "def save_model(G, D, epoch, directory):\n",
    "    hyper_param_str = f\"epoch={epoch:04}_z={G.z_dim}\"\n",
    "    G_file_path = os.path.join(directory, f'G_{hyper_param_str}.pth')\n",
    "    D_file_path = os.path.join(directory, f'D_{hyper_param_str}.pth')\n",
    "    torch.save(G.module.state_dict() if type(G) is MultiGPUWrapper else G.state_dict(), G_file_path)\n",
    "    torch.save(D.module.state_dict() if type(D) is MultiGPUWrapper else D.state_dict(), D_file_path)\n",
    "    print(\"Following models are saved.\")\n",
    "    print(G_file_path)\n",
    "    print(D_file_path)"
   ]
  },
  {
   "cell_type": "markdown",
   "metadata": {},
   "source": [
    "生成画像の表示関数    "
   ]
  },
  {
   "cell_type": "code",
   "execution_count": 11,
   "metadata": {},
   "outputs": [],
   "source": [
    "def show_sample(save_dir):\n",
    "    image_paths = glob.glob(os.path.join(save_dir, \"fake_samples_*\"))\n",
    "    image_paths.sort()\n",
    "\n",
    "    print(f\"{len(image_paths)} images found in {save_dir}\")\n",
    "    for i, path in enumerate(image_paths):\n",
    "        print(f\"{i:02}: {path.split('/')[-1]}\")\n",
    "\n",
    "    image_path = image_paths[int(input(\"input the number of image:\"))]\n",
    "\n",
    "    img = np.array(Image.open(image_path))\n",
    "    fig, ax = plt.subplots(figsize=(21, 7))\n",
    "    return ax.imshow(img)"
   ]
  },
  {
   "cell_type": "markdown",
   "metadata": {},
   "source": [
    "## 訓練の実施"
   ]
  },
  {
   "cell_type": "markdown",
   "metadata": {},
   "source": [
    "### バージョン名とセーブ先の指定"
   ]
  },
  {
   "cell_type": "code",
   "execution_count": 13,
   "metadata": {},
   "outputs": [],
   "source": [
    "version = 'midinet_noprev_nochordD'\n",
    "save_dir = os.path.join(output_dir, version)\n",
    "if not os.path.isdir(save_dir):\n",
    "    os.mkdir(save_dir)"
   ]
  },
  {
   "cell_type": "markdown",
   "metadata": {},
   "source": [
    "### 学習初期化処理  "
   ]
  },
  {
   "cell_type": "code",
   "execution_count": 14,
   "metadata": {},
   "outputs": [
    {
     "name": "stdout",
     "output_type": "stream",
     "text": [
      "Data loading is completed.\n",
      "54 batches from 85927 bars are obtained.\n"
     ]
    }
   ],
   "source": [
    "batch_size = 1600\n",
    "dataloader = get_dataloader(input_data_path, batch_size=batch_size)\n",
    "data_size = len(dataloader.dataset) // batch_size"
   ]
  },
  {
   "cell_type": "code",
   "execution_count": 15,
   "metadata": {},
   "outputs": [
    {
     "name": "stdout",
     "output_type": "stream",
     "text": [
      "Networks are Ready!\n"
     ]
    }
   ],
   "source": [
    "device = torch.device('cuda')\n",
    "use_multi_gpu = False\n",
    "use_adam = True\n",
    "\n",
    "z_dim = 512\n",
    "G = Generator(z_dim=z_dim).to(device)\n",
    "D = Discriminator().to(device)\n",
    "\n",
    "if use_multi_gpu and len(visible_devices) > 1:\n",
    "    G, D = MultiGPUWrapper(G), MultiGPUWrapper(D)\n",
    "    \n",
    "if use_adam:\n",
    "    g_optim = optim.Adam(G.parameters(), lr=0.0002, betas=(0.9, 0.999))\n",
    "    d_optim = optim.Adam(D.parameters(), lr=0.0002, betas=(0.9, 0.999))\n",
    "else:\n",
    "    g_optim = optim.RMSprop(G.parameters(), lr=0.0002)\n",
    "    d_optim = optim.RMSprop(D.parameters(), lr=0.0002)\n",
    "\n",
    "fm_lambda = 0.5\n",
    "\n",
    "# 訓練途中のサンプル取得用ノイズ\n",
    "sample_noise = torch.randn(8, z_dim).to(device)\n",
    "\n",
    "print(\"Networks are Ready!\")"
   ]
  },
  {
   "cell_type": "markdown",
   "metadata": {},
   "source": [
    "### Adaptive GTT GANで学習"
   ]
  },
  {
   "cell_type": "markdown",
   "metadata": {},
   "source": [
    "訓練関数"
   ]
  },
  {
   "cell_type": "code",
   "execution_count": 16,
   "metadata": {},
   "outputs": [],
   "source": [
    "def train_gan_adaptive(G, D, g_optim, d_optim, k, max_gtt, fm_lambda, dataloader, sample_noise, epoch_num, output_dir, device, adaptive=True,\n",
    "              start_epoch=1, clear_disp_epoch_period=3, report_period=None, save_epoch_period=None, get_status_dict=True):\n",
    "    \n",
    "    torch.backends.cudnn.benchmark = True\n",
    "    \n",
    "    batch_num = len(dataloader)\n",
    "    batch_size = dataloader.batch_size\n",
    "    data_size = len(dataloader.dataset) // batch_size\n",
    "    \n",
    "    status_dict = { \n",
    "        'd_loss': [], 'd_ans_real': [], 'd_ans_fake': [], \n",
    "        'g_loss': [], 'g_loss_fake': [], 'g_loss_fm': [], 'gtt': [] \n",
    "    }\n",
    "    \n",
    "    G.train()\n",
    "    D.train()\n",
    "\n",
    "    try:        \n",
    "        for epoch in range(start_epoch, epoch_num+1):\n",
    "            print(f\"----- Epoch {epoch:>3} / {epoch_num:<3} start -----\")\n",
    "            t_epoch_start = time.time()\n",
    "            t_iter_start = time.time()\n",
    "            \n",
    "            # adaptive gtt: 本物を本物と識別できる奴に偽物だと見破られるほど生成器が頑張る\n",
    "            if epoch != start_epoch:\n",
    "                if adaptive:\n",
    "                    avg_real = total_d_ans_real / data_size\n",
    "                    avg_fake = total_d_ans_fake / data_size\n",
    "                    gtt = min(max_gtt, max(1, int((avg_real - avg_fake) * 100)) * k)\n",
    "            else:\n",
    "                gtt = k\n",
    "            print(f\"generator train times: {gtt}\")\n",
    "            \n",
    "            total_d_loss = 0.0\n",
    "            total_d_ans_real = 0.0\n",
    "            total_d_ans_fake = 0.0\n",
    "            total_g_loss = 0.0\n",
    "            total_g_loss_fake = 0.0\n",
    "            total_g_loss_fm = 0.0\n",
    "            \n",
    "            for batch_iteration, (x, _, y) in enumerate(dataloader, 1):\n",
    "                real = x.to(device)\n",
    "                chord = y.to(device)\n",
    "                \n",
    "                batch_size = real.size()[0]\n",
    "\n",
    "                ############\n",
    "                # DのTurn\n",
    "                ############\n",
    "                G.zero_grad()\n",
    "                D.zero_grad()\n",
    "\n",
    "                # realデータに対するLoss\n",
    "                d_ans_real, d_logits_real = D(real, chord)\n",
    "                d_real_label = torch.rand_like(d_logits_real) * 0.5 + 0.7\n",
    "                d_loss_real = nn.BCEWithLogitsLoss()(d_logits_real, d_real_label)\n",
    "\n",
    "                # fakeデータに対するLoss\n",
    "                z = torch.randn(len(real), G.z_dim).to(device)\n",
    "                fake = G(z, chord)\n",
    "                d_ans_fake, d_logits_fake = D(fake, chord)\n",
    "                d_fake_label = torch.rand_like(d_logits_fake) * 0.3\n",
    "                d_loss_fake = nn.BCEWithLogitsLoss()(d_logits_fake, d_fake_label)\n",
    "\n",
    "                # DのLoss全体\n",
    "                d_loss = d_loss_real + d_loss_fake\n",
    "\n",
    "                # Dのパラメータを更新\n",
    "                d_loss.backward()\n",
    "                d_optim.step()\n",
    "\n",
    "                # Dに関する合計の記録\n",
    "                d_ans_real, d_ans_fake = d_ans_real.mean().item(), d_ans_fake.mean().item()\n",
    "                d_loss = d_loss.item()\n",
    "                total_d_ans_real += d_ans_real\n",
    "                total_d_ans_fake += d_ans_fake\n",
    "                total_d_loss += d_loss\n",
    "                                \n",
    "                ############\n",
    "                # GのTurn\n",
    "                ############\n",
    "                mean_r = torch.mean(real, 0) # realデータの平均値\n",
    "\n",
    "                for t in range(gtt):\n",
    "                    G.zero_grad()\n",
    "                    D.zero_grad()\n",
    "\n",
    "                    z = torch.randn(len(real), G.z_dim).to(device)\n",
    "                    fake = G(z, chord)\n",
    "                    \n",
    "                    _, d_logits_fake = D(fake, chord)\n",
    "                    deceive_label = torch.ones_like(d_logits_fake)\n",
    "                    g_loss_fake = nn.BCEWithLogitsLoss()(d_logits_fake, deceive_label)\n",
    "\n",
    "                    # Gの特徴マッチング：Gがrealに近いデータを生成できるようにする\n",
    "                    # fakeデータとrealデータの違いが大きいほどペナルティを与える\n",
    "                    mean_g = torch.mean(fake, 0) # fakeデータの平均値\n",
    "                    g_loss_fm = nn.MSELoss(reduction='sum')(mean_g, mean_r) / 2\n",
    "                    g_loss_fm = torch.mul(g_loss_fm, fm_lambda)\n",
    "\n",
    "                    # GのLoss\n",
    "                    g_loss = g_loss_fake + g_loss_fm\n",
    "\n",
    "                    # Gのパラメータを更新\n",
    "                    g_loss.backward()                    \n",
    "                    g_optim.step()\n",
    "\n",
    "                # Gに関する合計の記録\n",
    "                g_loss_fake, g_loss_fm = g_loss_fake.item(), g_loss_fm.item()\n",
    "                g_loss = g_loss.item()\n",
    "                total_g_loss_fake += g_loss_fake\n",
    "                total_g_loss_fm += g_loss_fm\n",
    "                total_g_loss += g_loss\n",
    "                                                \n",
    "                ####################\n",
    "                # IterationのReport\n",
    "                ####################\n",
    "                if (batch_iteration % report_period == 0):\n",
    "                    duration = time.time() - t_iter_start\n",
    "                    print(f\"Iteration {batch_iteration:>4}/{batch_num:<4} | {duration:.1f} [sec]\")\n",
    "                    print(f\"==> D loss: {d_loss:.4f} | D ans real: {d_ans_real:.4f} | D ans fake: {d_ans_fake:.4f}\")\n",
    "                    print(f\"==> G loss: {g_loss:.4f} | G loss fake: {g_loss_fake:.4f} | fm G loss: {g_loss_fm:.4f}\")\n",
    "                    t_iter_start = time.time()\n",
    "\n",
    "\n",
    "            ################\n",
    "            # EpochのReport\n",
    "            ################\n",
    "            \n",
    "            epoch_duration = time.time() - t_epoch_start\n",
    "            remain_sec = epoch_duration * (epoch_num - epoch)\n",
    "            print(f\"Epoch {epoch:>3} / {epoch_num:<3} finished in {epoch_duration:.4f}[sec]\")\n",
    "            print(f\"Remaining Time | {remain_sec/3600:.4f} [hour] | {remain_sec/60:.2f} [min] | {remain_sec:.0f} [sec]\")\n",
    "            \n",
    "            status_dict['d_loss'].append(total_d_loss / data_size)\n",
    "            status_dict['d_ans_real'].append(total_d_ans_real / data_size)\n",
    "            status_dict['d_ans_fake'].append(total_d_ans_fake / data_size)\n",
    "            status_dict['g_loss'].append(total_g_loss / data_size)\n",
    "            status_dict['g_loss_fake'].append(total_g_loss_fake / data_size)\n",
    "            status_dict['g_loss_fm'].append(total_g_loss_fm / data_size)\n",
    "            status_dict['gtt'].append(gtt)\n",
    "            \n",
    "            last_d_loss = status_dict['d_loss'][-1]\n",
    "            last_d_ans_real = status_dict['d_ans_real'][-1]\n",
    "            last_d_ans_fake = status_dict['d_ans_fake'][-1]\n",
    "            last_g_loss = status_dict['g_loss'][-1]\n",
    "            last_g_loss_fake = status_dict['g_loss_fake'][-1]\n",
    "            last_g_loss_fm = status_dict['g_loss_fm'][-1]\n",
    "            print(f\"==> D loss: {last_d_loss:.4f} | D ans real: {last_d_ans_real:.4f} | D ans fake: {last_d_ans_fake:.4f}\")\n",
    "            print(f\"==> G loss: {last_g_loss:.4f} | G loss fake: {last_g_loss_fake:.4f} | fm G loss: {last_g_loss_fm:.4f}\")\n",
    "            print(\"\")\n",
    "            \n",
    "            if epoch % clear_disp_epoch_period == 0:\n",
    "                clear_output()\n",
    "            \n",
    "            # チェックポイントモデルと生成画像の保存\n",
    "            if (save_epoch_period is not None) and (epoch % save_epoch_period == 0):\n",
    "                print(\"start saving models\")\n",
    "                save_model(G, D, epoch, output_dir)\n",
    "                print(\"start saving sample\")\n",
    "                save_sample(G, sample_noise, chord, epoch, output_dir)\n",
    "                print(\"\")\n",
    "                \n",
    "        print(\"All Learning Finished!\")\n",
    "        \n",
    "    except KeyboardInterrupt:\n",
    "        print(\"Keyboard interrupted, but return models.\")\n",
    "        if get_status_dict:\n",
    "            return G, D, status_dict\n",
    "        return G, D\n",
    "    \n",
    "    if get_status_dict:\n",
    "        return G, D, status_dict\n",
    "    return G, D"
   ]
  },
  {
   "cell_type": "code",
   "execution_count": 17,
   "metadata": {},
   "outputs": [
    {
     "name": "stdout",
     "output_type": "stream",
     "text": [
      "start saving models\n",
      "Following models are saved.\n",
      "../datasets/theorytab/midinet/learning/midinet_noprev_nochordD/G_epoch=0500_z=512.pth\n",
      "../datasets/theorytab/midinet/learning/midinet_noprev_nochordD/D_epoch=0500_z=512.pth\n",
      "start saving sample\n",
      "../datasets/theorytab/midinet/learning/midinet_noprev_nochordD/fake_samples_epoch500.png saved.\n",
      "\n",
      "All Learning Finished!\n"
     ]
    }
   ],
   "source": [
    "epoch_num = 500\n",
    "G_trained, D_trained, status_dict = train_gan_adaptive(\n",
    "    G=G, D=D,\n",
    "    g_optim=g_optim, d_optim=d_optim, \n",
    "    k=4, max_gtt=48, \n",
    "    fm_lambda=fm_lambda,\n",
    "    dataloader=dataloader,\n",
    "    sample_noise=sample_noise,\n",
    "    epoch_num=epoch_num,\n",
    "    output_dir=save_dir,\n",
    "    device=device,\n",
    "    adaptive=True,\n",
    "    start_epoch=1,\n",
    "    clear_disp_epoch_period=5,\n",
    "    report_period=len(dataloader) // 2,\n",
    "    save_epoch_period=100\n",
    ")"
   ]
  },
  {
   "cell_type": "markdown",
   "metadata": {},
   "source": [
    "ステータスグラフの確認"
   ]
  },
  {
   "cell_type": "code",
   "execution_count": 18,
   "metadata": {},
   "outputs": [],
   "source": [
    "def show_status_graph_gan_adaptive(status_dict, offset=0, burn_in=0, holizon=False, title=\"Score graphs of GAN\"):\n",
    "    d_loss = status_dict['d_loss']\n",
    "    g_loss = status_dict['g_loss']\n",
    "    \n",
    "    d_ans_real = status_dict['d_ans_real']\n",
    "    d_ans_fake = status_dict['d_ans_fake']\n",
    "    \n",
    "    g_loss_fake = status_dict['g_loss_fake']\n",
    "    g_loss_fm = status_dict['g_loss_fm']\n",
    "    \n",
    "    gtt = status_dict['gtt']\n",
    "    \n",
    "    if holizon:\n",
    "        fig, axs = plt.subplots(1, 4, figsize=(24, 6))\n",
    "    else:\n",
    "        fig, axs = plt.subplots(4, 1, figsize=(6, 24))\n",
    "    \n",
    "    x1, x2 = np.arange(len(d_loss))+offset, np.arange(len(g_loss))+offset\n",
    "    axs[0].plot(x1[burn_in:], d_loss[burn_in:], label='D loss', linewidth=1.5)\n",
    "    axs[0].plot(x2[burn_in:], g_loss[burn_in:], label='G loss', linewidth=1.5)\n",
    "    axs[0].legend(loc='upper right')\n",
    "    axs[0].set_xlabel('epoch')\n",
    "    axs[0].set_ylabel('loss')\n",
    "    axs[0].set_title(f\"Losses\")\n",
    "\n",
    "    axs[1].plot(x1[burn_in:], d_ans_real[burn_in:], label='real', linewidth=1.5)\n",
    "    axs[1].plot(x1[burn_in:], d_ans_fake[burn_in:], label='fake', linewidth=1.5)\n",
    "    axs[1].legend(loc='upper right')\n",
    "    axs[1].set_xlabel('epoch')\n",
    "    axs[1].set_ylabel('ans rate')\n",
    "    axs[1].set_title(f\"D ans rates\")\n",
    "    \n",
    "    axs[2].plot(x2[burn_in:], g_loss_fake[burn_in:], label='fake', linewidth=1.5)\n",
    "    axs[2].plot(x2[burn_in:], g_loss_fm[burn_in:], label='fm', linewidth=1.5)\n",
    "    axs[2].legend(loc='upper right')\n",
    "    axs[2].set_xlabel('epoch')\n",
    "    axs[2].set_ylabel('loss')\n",
    "    axs[2].set_title(f\"G break down\")\n",
    "    \n",
    "    x = np.arange(len(gtt)) + offset\n",
    "    axs[3].plot(x, gtt, label='gtt', linewidth=1.5)\n",
    "    axs[3].legend(loc='upper right')\n",
    "    axs[3].set_xlabel('epoch')\n",
    "    axs[3].set_ylabel('gtt')\n",
    "    axs[3].set_title(f\"G train times\")\n",
    "\n",
    "    plt.show()"
   ]
  },
  {
   "cell_type": "code",
   "execution_count": 19,
   "metadata": {},
   "outputs": [
    {
     "data": {
      "image/png": "[encoded data removed]",
      "text/plain": [
       "<Figure size 1728x432 with 4 Axes>"
      ]
     },
     "metadata": {
      "needs_background": "light"
     },
     "output_type": "display_data"
    }
   ],
   "source": [
    "show_status_graph_gan_adaptive(status_dict, holizon=True, burn_in=0)"
   ]
  },
  {
   "cell_type": "markdown",
   "metadata": {},
   "source": [
    "生成データの画像を表示"
   ]
  },
  {
   "cell_type": "code",
   "execution_count": 20,
   "metadata": {
    "scrolled": false
   },
   "outputs": [
    {
     "name": "stdout",
     "output_type": "stream",
     "text": [
      "5 images found in ../datasets/theorytab/midinet/learning/midinet_noprev_nochordD\n",
      "00: fake_samples_epoch100.png\n",
      "01: fake_samples_epoch200.png\n",
      "02: fake_samples_epoch300.png\n",
      "03: fake_samples_epoch400.png\n",
      "04: fake_samples_epoch500.png\n",
      "input the number of image:4\n"
     ]
    },
    {
     "data": {
      "text/plain": [
       "<matplotlib.image.AxesImage at 0x7fca2f042ba8>"
      ]
     },
     "execution_count": 20,
     "metadata": {},
     "output_type": "execute_result"
    },
    {
     "data": {
      "image/png": "[encoded data removed]",
      "text/plain": [
       "<Figure size 1512x504 with 1 Axes>"
      ]
     },
     "metadata": {
      "needs_background": "light"
     },
     "output_type": "display_data"
    }
   ],
   "source": [
    "show_sample(save_dir)"
   ]
  }
 ],
 "metadata": {
  "kernelspec": {
   "display_name": "Python 3",
   "language": "python",
   "name": "python3"
  },
  "language_info": {
   "codemirror_mode": {
    "name": "ipython",
    "version": 3
   },
   "file_extension": ".py",
   "mimetype": "text/x-python",
   "name": "python",
   "nbconvert_exporter": "python",
   "pygments_lexer": "ipython3",
   "version": "3.7.3"
  }
 },
 "nbformat": 4,
 "nbformat_minor": 4
}
